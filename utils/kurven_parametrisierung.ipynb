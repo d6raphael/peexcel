{
 "cells": [
  {
   "cell_type": "markdown",
   "source": [
    "Parametrisierung"
   ],
   "metadata": {
    "collapsed": false,
    "pycharm": {
     "name": "#%% md\n"
    }
   }
  },
  {
   "cell_type": "code",
   "execution_count": 10,
   "metadata": {
    "collapsed": true
   },
   "outputs": [],
   "source": [
    "import numpy as np\n",
    "import pandas as pd\n",
    "from utils.targets import parameters, target\n",
    "\n",
    "\n",
    "# give points\n",
    "p1 = (0.25, 100)\n",
    "p2 = (1, 0)\n",
    "p3 = (5, -40)\n",
    "\n",
    "A, dx, EUI, fPE, scale = parameters(p1,p2,p3, fPE=1.63)"
   ]
  },
  {
   "cell_type": "code",
   "execution_count": 11,
   "outputs": [
    {
     "data": {
      "text/plain": "<matplotlib.collections.PathCollection at 0x23174bc6b80>"
     },
     "execution_count": 11,
     "metadata": {},
     "output_type": "execute_result"
    },
    {
     "data": {
      "text/plain": "<Figure size 432x288 with 1 Axes>",
      "image/png": "[encoded data removed]"
     },
     "metadata": {
      "needs_background": "light"
     },
     "output_type": "display_data"
    }
   ],
   "source": [
    "GFZ = np.linspace(0.0, 5, 500) #min, max, steps\n",
    "df = pd.DataFrame({\n",
    "    \"Kurve\": target(GFZ, A=A, dx=dx, EUI=EUI, fPE=fPE, scale=scale),},\n",
    "     index=GFZ\n",
    ")\n",
    "\n",
    "\n",
    "ax = df.plot()\n",
    "ax.set_ylim(-100,200)\n",
    "ax.scatter(*zip(p1,p2,p3), marker=\"+\", color=\"red\", linewidths=1)"
   ],
   "metadata": {
    "collapsed": false,
    "pycharm": {
     "name": "#%%\n"
    }
   }
  }
 ],
 "metadata": {
  "kernelspec": {
   "display_name": "Python 3",
   "language": "python",
   "name": "python3"
  },
  "language_info": {
   "codemirror_mode": {
    "name": "ipython",
    "version": 2
   },
   "file_extension": ".py",
   "mimetype": "text/x-python",
   "name": "python",
   "nbconvert_exporter": "python",
   "pygments_lexer": "ipython2",
   "version": "2.7.6"
  }
 },
 "nbformat": 4,
 "nbformat_minor": 0
}