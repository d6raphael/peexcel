{
 "cells": [
  {
   "cell_type": "code",
   "metadata": {
    "collapsed": true,
    "pycharm": {
     "name": "#%%\n"
    }
   },
   "source": [
    "# which excels?\n",
    "\n",
    "# for each excel\n",
    "# get the variations block\n",
    "# copy it at the bottom of the Comparison tExcel\n"
   ],
   "execution_count": 1,
   "outputs": []
  },
  {
   "cell_type": "code",
   "execution_count": 2,
   "outputs": [],
   "source": [
    "from pathlib import Path\n",
    "import xlwings\n",
    "from utils import excel\n",
    "\n",
    "excel_paths = [\n",
    "    r\"C:\\Users\\Simon Schneider\\Nextcloud\\EE\\1_Forschung\\2_Laufend\\ZQ Austria\\Quartiersdaten\\PlusenergieExcel_Aichinger_211105.xlsb\",\n",
    "    r\"C:\\Users\\Simon Schneider\\Nextcloud\\EE\\1_Forschung\\2_Laufend\\ZQ Austria\\Quartiersdaten\\PlusenergieExcel_AmBichl_211105.xlsb\",\n",
    "    r\"C:\\Users\\Simon Schneider\\Nextcloud\\EE\\1_Forschung\\2_Laufend\\ZQ Austria\\Quartiersdaten\\PlusenergieExcel_Glan_211105.xlsb\",\n",
    "    r\"C:\\Users\\Simon Schneider\\Nextcloud\\EE\\1_Forschung\\2_Laufend\\ZQ Austria\\Quartiersdaten\\PlusenergieExcel_Gneis_211105.xlsb\",\n",
    "    r\"C:\\Users\\Simon Schneider\\Nextcloud\\EE\\1_Forschung\\2_Laufend\\ZQ Austria\\Quartiersdaten\\PlusenergieExcel_Graz_211105.xlsb\",\n",
    "    r\"C:\\Users\\Simon Schneider\\Nextcloud\\EE\\1_Forschung\\2_Laufend\\ZQ Austria\\Quartiersdaten\\PlusenergieExcel_Pilzgasse_211105.xlsb\",\n",
    "]\n",
    "\n",
    "paths = [Path(ep) for ep in excel_paths]\n",
    "\n",
    "aggregation_excel_path = Path(\n",
    "    r\"C:\\Users\\Simon Schneider\\Nextcloud\\EE\\1_Forschung\\2_Laufend\\ZQ Austria\\Quartiersdaten\\Quartiersvergleich211108.xlsm\")\n",
    "aggregation_sheet = \"PEExcel Import\""
   ],
   "metadata": {
    "collapsed": false,
    "pycharm": {
     "name": "#%%\n"
    }
   }
  },
  {
   "cell_type": "code",
   "execution_count": 3,
   "outputs": [],
   "source": [
    "# for path in paths:\n",
    "#     excel.append_variations_to_aggregation_sheet(\n",
    "#         peexcel_path=path,\n",
    "#         agg_book_path=aggregation_excel_path,\n",
    "#         agg_sheet_name=aggregation_sheet,\n",
    "#         close_after=True\n",
    "#     )"
   ],
   "metadata": {
    "collapsed": false,
    "pycharm": {
     "name": "#%%\n"
    }
   }
  },
  {
   "cell_type": "code",
   "execution_count": 4,
   "outputs": [
    {
     "ename": "FileNotFoundError",
     "evalue": "No such file: 'c:\\users\\simon schneider\\nextcloud\\ee\\1_forschung\\2_laufend\\zq austria\\quartiersdaten\\quartiersvergleich211108.xlsm'",
     "output_type": "error",
     "traceback": [
      "\u001B[1;31m---------------------------------------------------------------------------\u001B[0m",
      "\u001B[1;31mFileNotFoundError\u001B[0m                         Traceback (most recent call last)",
      "\u001B[1;32m~\\AppData\\Local\\Temp/ipykernel_14432/2529443333.py\u001B[0m in \u001B[0;36m<module>\u001B[1;34m\u001B[0m\n\u001B[0;32m      1\u001B[0m \u001B[1;32mimport\u001B[0m \u001B[0mpandas\u001B[0m \u001B[1;32mas\u001B[0m \u001B[0mpd\u001B[0m\u001B[1;33m\u001B[0m\u001B[1;33m\u001B[0m\u001B[0m\n\u001B[1;32m----> 2\u001B[1;33m \u001B[0maggbook\u001B[0m \u001B[1;33m=\u001B[0m \u001B[0mxlwings\u001B[0m\u001B[1;33m.\u001B[0m\u001B[0mBook\u001B[0m\u001B[1;33m(\u001B[0m\u001B[0maggregation_excel_path\u001B[0m\u001B[1;33m)\u001B[0m\u001B[1;33m\u001B[0m\u001B[1;33m\u001B[0m\u001B[0m\n\u001B[0m\u001B[0;32m      3\u001B[0m \u001B[1;33m\u001B[0m\u001B[0m\n\u001B[0;32m      4\u001B[0m def varianten(\n\u001B[0;32m      5\u001B[0m         \u001B[0mbook\u001B[0m\u001B[1;33m:\u001B[0m\u001B[0mxlwings\u001B[0m\u001B[1;33m.\u001B[0m\u001B[0mBook\u001B[0m\u001B[1;33m,\u001B[0m\u001B[1;33m\u001B[0m\u001B[1;33m\u001B[0m\u001B[0m\n",
      "\u001B[1;32m~\\.conda\\envs\\peexcel\\lib\\site-packages\\xlwings\\main.py\u001B[0m in \u001B[0;36m__init__\u001B[1;34m(self, fullname, update_links, read_only, format, password, write_res_password, ignore_read_only_recommended, origin, delimiter, editable, notify, converter, add_to_mru, local, corrupt_load, impl)\u001B[0m\n\u001B[0;32m    706\u001B[0m                     \u001B[1;32mif\u001B[0m \u001B[1;32mnot\u001B[0m \u001B[0mapp\u001B[0m\u001B[1;33m:\u001B[0m\u001B[1;33m\u001B[0m\u001B[1;33m\u001B[0m\u001B[0m\n\u001B[0;32m    707\u001B[0m                         \u001B[0mapp\u001B[0m \u001B[1;33m=\u001B[0m \u001B[0mApp\u001B[0m\u001B[1;33m(\u001B[0m\u001B[0madd_book\u001B[0m\u001B[1;33m=\u001B[0m\u001B[1;32mFalse\u001B[0m\u001B[1;33m)\u001B[0m\u001B[1;33m\u001B[0m\u001B[1;33m\u001B[0m\u001B[0m\n\u001B[1;32m--> 708\u001B[1;33m                     impl = app.books.open(fullname, update_links, read_only, format, password, write_res_password,\n\u001B[0m\u001B[0;32m    709\u001B[0m                                           \u001B[0mignore_read_only_recommended\u001B[0m\u001B[1;33m,\u001B[0m \u001B[0morigin\u001B[0m\u001B[1;33m,\u001B[0m \u001B[0mdelimiter\u001B[0m\u001B[1;33m,\u001B[0m \u001B[0meditable\u001B[0m\u001B[1;33m,\u001B[0m \u001B[0mnotify\u001B[0m\u001B[1;33m,\u001B[0m \u001B[0mconverter\u001B[0m\u001B[1;33m,\u001B[0m\u001B[1;33m\u001B[0m\u001B[1;33m\u001B[0m\u001B[0m\n\u001B[0;32m    710\u001B[0m                                           add_to_mru, local, corrupt_load).impl\n",
      "\u001B[1;32m~\\.conda\\envs\\peexcel\\lib\\site-packages\\xlwings\\main.py\u001B[0m in \u001B[0;36mopen\u001B[1;34m(self, fullname, update_links, read_only, format, password, write_res_password, ignore_read_only_recommended, origin, delimiter, editable, notify, converter, add_to_mru, local, corrupt_load)\u001B[0m\n\u001B[0;32m   4352\u001B[0m         \u001B[0mfullname\u001B[0m \u001B[1;33m=\u001B[0m \u001B[0mutils\u001B[0m\u001B[1;33m.\u001B[0m\u001B[0mfspath\u001B[0m\u001B[1;33m(\u001B[0m\u001B[0mfullname\u001B[0m\u001B[1;33m)\u001B[0m\u001B[1;33m\u001B[0m\u001B[1;33m\u001B[0m\u001B[0m\n\u001B[0;32m   4353\u001B[0m         \u001B[1;32mif\u001B[0m \u001B[1;32mnot\u001B[0m \u001B[0mos\u001B[0m\u001B[1;33m.\u001B[0m\u001B[0mpath\u001B[0m\u001B[1;33m.\u001B[0m\u001B[0mexists\u001B[0m\u001B[1;33m(\u001B[0m\u001B[0mfullname\u001B[0m\u001B[1;33m)\u001B[0m\u001B[1;33m:\u001B[0m\u001B[1;33m\u001B[0m\u001B[1;33m\u001B[0m\u001B[0m\n\u001B[1;32m-> 4354\u001B[1;33m             \u001B[1;32mraise\u001B[0m \u001B[0mFileNotFoundError\u001B[0m\u001B[1;33m(\u001B[0m\u001B[1;34m\"No such file: '%s'\"\u001B[0m \u001B[1;33m%\u001B[0m \u001B[0mfullname\u001B[0m\u001B[1;33m)\u001B[0m\u001B[1;33m\u001B[0m\u001B[1;33m\u001B[0m\u001B[0m\n\u001B[0m\u001B[0;32m   4355\u001B[0m         \u001B[0mfullname\u001B[0m \u001B[1;33m=\u001B[0m \u001B[0mos\u001B[0m\u001B[1;33m.\u001B[0m\u001B[0mpath\u001B[0m\u001B[1;33m.\u001B[0m\u001B[0mrealpath\u001B[0m\u001B[1;33m(\u001B[0m\u001B[0mfullname\u001B[0m\u001B[1;33m)\u001B[0m\u001B[1;33m\u001B[0m\u001B[1;33m\u001B[0m\u001B[0m\n\u001B[0;32m   4356\u001B[0m         \u001B[0m_\u001B[0m\u001B[1;33m,\u001B[0m \u001B[0mname\u001B[0m \u001B[1;33m=\u001B[0m \u001B[0mos\u001B[0m\u001B[1;33m.\u001B[0m\u001B[0mpath\u001B[0m\u001B[1;33m.\u001B[0m\u001B[0msplit\u001B[0m\u001B[1;33m(\u001B[0m\u001B[0mfullname\u001B[0m\u001B[1;33m)\u001B[0m\u001B[1;33m\u001B[0m\u001B[1;33m\u001B[0m\u001B[0m\n",
      "\u001B[1;31mFileNotFoundError\u001B[0m: No such file: 'c:\\users\\simon schneider\\nextcloud\\ee\\1_forschung\\2_laufend\\zq austria\\quartiersdaten\\quartiersvergleich211108.xlsm'"
     ]
    }
   ],
   "source": [
    "import pandas as pd\n",
    "aggbook = xlwings.Book(aggregation_excel_path)\n",
    "\n",
    "def varianten(\n",
    "        book:xlwings.Book,\n",
    "        aggregation_sheet:str,\n",
    "        rowstart=2,\n",
    "        rowstop=134,\n",
    "        colstop=401\n",
    ") -> pd.DataFrame:\n",
    "\n",
    "    vars = book.sheets[aggregation_sheet]\n",
    "    range = vars[rowstart:rowstop, :colstop]\n",
    "    df = range.options(pd.DataFrame, index=False).value\n",
    "    return df\n",
    "\n",
    "df = varianten(aggbook, aggregation_sheet)\n",
    "df.info()"
   ],
   "metadata": {
    "collapsed": false,
    "pycharm": {
     "name": "#%%\n"
    }
   }
  },
  {
   "cell_type": "code",
   "execution_count": null,
   "outputs": [],
   "source": [
    "# find a certain variation from the list\n",
    "\n",
    "df[\n",
    "    (df[\"Variantenname\"]==\"Alpha - Aktuell\") &\n",
    "    (df[\"Projekt\"]==\"Aichinger\")\n",
    "]"
   ],
   "metadata": {
    "collapsed": false,
    "pycharm": {
     "name": "#%%\n"
    }
   }
  },
  {
   "cell_type": "code",
   "execution_count": null,
   "outputs": [],
   "source": [
    "import numpy as np\n",
    "from utils.targets import ZQSynergy\n",
    "GFZ = np.linspace(0.0, 8, 800) #min, max, steps\n",
    "PEQ_alfa = pd.DataFrame({\n",
    "    \"\":np.zeros(len(GFZ)),\n",
    "    \"Zielwert Alpha (PEQ okt 2021)\": ZQSynergy().alpha_zielwert_ngf(GFZ=GFZ),\n",
    "\n",
    "}, index=GFZ)\n"
   ],
   "metadata": {
    "collapsed": false,
    "pycharm": {
     "name": "#%%\n"
    }
   }
  },
  {
   "cell_type": "code",
   "execution_count": null,
   "outputs": [],
   "source": [
    "import matplotlib.pyplot as plt\n",
    "from utils.plotting import target_of_gfz\n",
    "\n",
    "fig, ax = plt.subplots(1,1, figsize=(10,6))\n",
    "target_of_gfz(ax=ax, df=PEQ_alfa)\n",
    "ax.set_ylabel(\"PE-Bilanz $[{kWh/m²_{NGF}a}]$\")"
   ],
   "metadata": {
    "collapsed": false,
    "pycharm": {
     "name": "#%%\n"
    }
   }
  },
  {
   "cell_type": "code",
   "execution_count": null,
   "outputs": [],
   "source": [
    "cols = {\n",
    "\"Alpha - Bauträger Standard\": 1.0,\n",
    "\"Alpha - Aktuell\": 2.0,\n",
    "\"Alpha - Netzdienlichkeit\": 3.0,\n",
    "\"Alpha - Min PEQ\": 4.0,\n",
    "\"Alpha - Min PEQ - Nutzerstrom 75%\": 4.5,\n",
    "\"Beta - Bauträger Standard\": 5.0,\n",
    "\"Beta - Aktuell\": 6.0,\n",
    "\"Beta - Netzdienlichkeit\": 7.0,\n",
    "\"Beta - Min PEQ\": 8.0,\n",
    "\"Beta - Min PEQ - Nutzerstrom 75%\": 8.5,\n",
    "\"Omega - Bauträger Standard\": 9.0,\n",
    "\"Omega - Aktuell\": 10.0,\n",
    "\"Omega - Netzdienlichkeit\": 11.0,\n",
    "\"Omega - Min PEQ\": 12.0,\n",
    "\"Omega - Min PEQ - Nutzerstrom 75%\": 12.5,\n",
    "}\n",
    "\n",
    "new_df = df[\n",
    "    (df.FILE != \"None\")\n",
    "]\n",
    "\n",
    "df = new_df"
   ],
   "metadata": {
    "collapsed": false,
    "pycharm": {
     "name": "#%%\n"
    }
   }
  },
  {
   "cell_type": "code",
   "execution_count": null,
   "outputs": [],
   "source": [
    "dsm_df = new_df[\n",
    "    (new_df.index.isin([4.0,4.5]))\n",
    "]\n",
    "dsm_df\n"
   ],
   "metadata": {
    "collapsed": false,
    "pycharm": {
     "name": "#%%\n"
    }
   }
  },
  {
   "cell_type": "code",
   "source": [
    "# get variants\n",
    "# s2 = aggbook.sheets[4]\n",
    "# local_addr = s2[\"M5\"].formula.split(\"!\")[1]\n",
    "# aggsheet = aggbook.sheets[aggregation_sheet]\n",
    "# new_df.columns[aggsheet[local_addr].column-2]"
   ],
   "metadata": {
    "collapsed": false,
    "pycharm": {
     "name": "#%%\n"
    }
   },
   "execution_count": null,
   "outputs": []
  },
  {
   "cell_type": "markdown",
   "source": [
    "we commonly need to transform the df into a flat version,\n",
    " with an additional column *calc_type*:\n",
    " * Erdgas,\n",
    " * FW,\n",
    " * HP /wo DSM,\n",
    " * HP /w DSM\n"
   ],
   "metadata": {
    "collapsed": false,
    "pycharm": {
     "name": "#%% md\n"
    }
   }
  },
  {
   "cell_type": "code",
   "execution_count": null,
   "outputs": [],
   "source": [
    "# df_inputs\n",
    "vars = aggbook.sheets[aggregation_sheet]\n",
    "range = vars[2:134, :204]\n",
    "df_inputslarge = range.options(pd.DataFrame, index=False).value\n",
    "df_gfzblock = vars[2:134, 394:397].options(pd.DataFrame, index=False).value\n",
    "#joining GFZ shit\n",
    "df_inputs = df_gfzblock.join(df_inputslarge)"
   ],
   "metadata": {
    "collapsed": false,
    "pycharm": {
     "name": "#%%\n"
    }
   }
  },
  {
   "cell_type": "code",
   "execution_count": null,
   "outputs": [],
   "source": [
    "# df_gas\n",
    "range = vars[1:134, 204:224]\n",
    "df_gas = range.options(pd.DataFrame, index=False).value\n",
    "df_gas[\"energy_system\"] = \"Erdgas\"\n",
    "# df_distheat\n",
    "range = vars[1:134, 224:244]\n",
    "df_distheat = range.options(pd.DataFrame, index=False).value\n",
    "df_distheat[\"energy_system\"] = \"Fernwärme\"\n",
    "# df_HPwoDSM\n",
    "range = vars[1:134, 244:264]\n",
    "df_HPwoDSM = range.options(pd.DataFrame, index=False).value\n",
    "df_HPwoDSM[\"energy_system\"] = \"Wärmepumpe (OHNE DSM)\"\n",
    "# df_HPwDSM\n",
    "range = vars[1:134, 308:328]\n",
    "df_HPwDSM = range.options(pd.DataFrame, index=False).value\n",
    "df_HPwDSM[\"energy_system\"] = \"Wärmepumpe (mit DSM)\""
   ],
   "metadata": {
    "collapsed": false,
    "pycharm": {
     "name": "#%%\n"
    }
   }
  },
  {
   "cell_type": "code",
   "execution_count": null,
   "outputs": [],
   "source": [
    "# concatenate all dfs\n",
    "i = np.arange(132)\n",
    "df1 = pd.concat([df_gas, df_inputs], axis=1)#.set_index([i,i]).reset_index(level=0)\n",
    "i2 = i+132\n",
    "df2 = pd.concat([df_distheat, df_inputs], axis=1)#.set_index([i,i2]).reset_index(level=0)\n",
    "i3 = i2+132\n",
    "df3 = pd.concat([df_HPwoDSM, df_inputs], axis=1)#.set_index([i,i3]).reset_index(level=0)\n",
    "i4 = i3+132\n",
    "df4 = pd.concat([df_HPwDSM, df_inputs ], axis=1)#\\\n",
    " #   .set_index([i,i4], drop=True)\\\n",
    "#    .reset_index(level=0)\n",
    "\n",
    "# df.shape"
   ],
   "metadata": {
    "collapsed": false,
    "pycharm": {
     "name": "#%%\n"
    }
   }
  },
  {
   "cell_type": "code",
   "execution_count": null,
   "outputs": [],
   "source": [
    "from enum import Enum, auto\n",
    "# vars[\"K2\"].value\n",
    "class EnerSys(Enum):\n",
    "    gas = auto()\n",
    "    dh = auto()\n",
    "    hp_wo_dsm = auto()\n",
    "    hp_w_dsm = auto()"
   ],
   "metadata": {
    "collapsed": false,
    "pycharm": {
     "name": "#%%\n"
    }
   }
  },
  {
   "cell_type": "code",
   "execution_count": null,
   "outputs": [],
   "source": [
    "for n in EnerSys:\n",
    "    print(n)"
   ],
   "metadata": {
    "collapsed": false,
    "pycharm": {
     "name": "#%%\n"
    }
   }
  },
  {
   "cell_type": "code",
   "execution_count": null,
   "outputs": [],
   "source": [
    "\n",
    "result_map_NGF = {\n",
    "    EnerSys.gas: {\n",
    "        \"PEBedarf\": {\"abc\": \"GW\", \"num\":204},\n",
    "        \"PEExport\": {\"abc\": \"GX\", \"num\":205},\n",
    "        \"PESaldo\": {\"abc\": \"GY\", \"num\":206},\n",
    "        \"Alpha - Dichteausgleich [kWh/m²NGF]\": {\n",
    "            \"abc\": \"HA\", \"num\":208},\n",
    "    },\n",
    "    EnerSys.dh: {\n",
    "        \"PEBedarf\": {\"abc\": \"HQ\", \"num\":224},\n",
    "        \"PEExport\": {\"abc\": \"HR\", \"num\":225},\n",
    "        \"PESaldo\": {\"abc\": \"HS\", \"num\":226},\n",
    "        \"Alpha - Dichteausgleich [kWh/m²NGF]\": {\n",
    "            \"abc\": \"HU\", \"num\":228},\n",
    "    },\n",
    "    EnerSys.hp_wo_dsm: {\n",
    "        \"PEBedarf\": {\"abc\": \"IK\", \"num\":244},\n",
    "        \"PEExport\": {\"abc\": \"IL\", \"num\":245},\n",
    "        \"PESaldo\": {\"abc\": \"IM\", \"num\":246},\n",
    "        \"Alpha - Dichteausgleich [kWh/m²NGF]\": {\n",
    "            \"abc\": \"IO\", \"num\":248},\n",
    "    },\n",
    "    EnerSys.hp_w_dsm: {\n",
    "        \"PEBedarf\": {\"abc\": \"KW\", \"num\":308},\n",
    "        \"PEExport\": {\"abc\": \"KX\", \"num\":309},\n",
    "        \"PESaldo\": {\"abc\": \"KY\", \"num\":310},\n",
    "        \"Alpha - Dichteausgleich [kWh/m²NGF]\": {\n",
    "            \"abc\": \"LA\", \"num\":312},\n",
    "    }\n",
    "}\n"
   ],
   "metadata": {
    "collapsed": false,
    "pycharm": {
     "name": "#%%\n"
    }
   }
  },
  {
   "cell_type": "code",
   "execution_count": null,
   "outputs": [],
   "source": [
    "def address(system:EnerSys, index, col:str, row_offset=3, mapping=result_map_NGF):\n",
    "    addr = mapping[system][col][\"abc\"]\n",
    "    return addr+str(index+row_offset)\n"
   ],
   "metadata": {
    "collapsed": false,
    "pycharm": {
     "name": "#%%\n"
    }
   }
  },
  {
   "cell_type": "code",
   "execution_count": null,
   "outputs": [],
   "source": [
    "aggsheet = vars\n",
    "a1 = address(EnerSys.hp_wo_dsm, 0, \"PEBedarf\")\n",
    "aggsheet[a1].value"
   ],
   "metadata": {
    "collapsed": false,
    "pycharm": {
     "name": "#%%\n"
    }
   }
  },
  {
   "cell_type": "code",
   "execution_count": null,
   "outputs": [],
   "source": [
    "df1[\"PEBedarf\"]"
   ],
   "metadata": {
    "collapsed": false,
    "pycharm": {
     "name": "#%%\n"
    }
   }
  },
  {
   "cell_type": "markdown",
   "source": [
    "Zuerst einmal ein Sanity check:\n",
    "In welchen Input Kategorien unterscheiden sich die Varianten nicht?"
   ],
   "metadata": {
    "collapsed": false,
    "pycharm": {
     "name": "#%% md\n"
    }
   }
  },
  {
   "cell_type": "code",
   "execution_count": null,
   "outputs": [],
   "source": [
    "projects = df_inputs.Projekt.unique()\n",
    "projects"
   ],
   "metadata": {
    "collapsed": false,
    "pycharm": {
     "name": "#%%\n"
    }
   }
  },
  {
   "cell_type": "code",
   "execution_count": null,
   "outputs": [],
   "source": [
    "varianten = df_inputs.Variantenname.unique()\n",
    "varianten\n"
   ],
   "metadata": {
    "collapsed": false,
    "pycharm": {
     "name": "#%%\n"
    }
   }
  },
  {
   "cell_type": "code",
   "execution_count": null,
   "outputs": [],
   "source": [
    "bauweisen = df_inputs[\"Gewählte Variante\"].unique()\n",
    "bauweisen, len(bauweisen)"
   ],
   "metadata": {
    "collapsed": false,
    "pycharm": {
     "name": "#%%\n"
    }
   }
  },
  {
   "cell_type": "code",
   "execution_count": null,
   "outputs": [],
   "source": [
    "sonnenschutz = df_inputs[\"Mobiler Sommerlicher Sonnenschutz\"].unique()\n",
    "sonnenschutz, len(sonnenschutz)\n"
   ],
   "metadata": {
    "collapsed": false,
    "pycharm": {
     "name": "#%%\n"
    }
   }
  },
  {
   "cell_type": "code",
   "execution_count": null,
   "outputs": [],
   "source": [
    "view2 = df2[df2.idx.isin([1.,5.,9.])].copy()\n",
    "view3 = df3[df3.idx.isin([2.,6.,10.])].copy()\n",
    "view4 = df4[df4.idx.isin([3.,4.0,4.5,7.,8.,8.5,11.,12.,12.5])].copy()\n",
    "view = pd.concat([view2,view3, view4])"
   ],
   "metadata": {
    "collapsed": false,
    "pycharm": {
     "name": "#%%\n"
    }
   }
  },
  {
   "cell_type": "code",
   "execution_count": null,
   "outputs": [],
   "source": [
    "view = view[view.FILE != \"None\"]"
   ],
   "metadata": {
    "collapsed": false,
    "pycharm": {
     "name": "#%%\n"
    }
   }
  },
  {
   "cell_type": "code",
   "execution_count": null,
   "outputs": [],
   "source": [
    "aggbook.sheets[\"Varianten\"][\"A1\"].value     = view"
   ],
   "metadata": {
    "collapsed": false,
    "pycharm": {
     "name": "#%%\n"
    }
   }
  },
  {
   "cell_type": "code",
   "execution_count": null,
   "outputs": [],
   "source": [
    "import seaborn as sns\n",
    "\n",
    "alfa = view[view[\"Variantenname\"].str.contains(\"Alpha\")]\n",
    "alfa[\"PEExport\"]"
   ],
   "metadata": {
    "collapsed": false,
    "pycharm": {
     "name": "#%%\n"
    }
   }
  },
  {
   "cell_type": "code",
   "execution_count": null,
   "outputs": [],
   "source": [
    "sns.scatterplot(data=alfa,\n",
    "            x=\"PEBedarf\",\n",
    "            y=\"PEExport\",\n",
    "            hue=\"Projekt\")"
   ],
   "metadata": {
    "collapsed": false,
    "pycharm": {
     "name": "#%%\n"
    }
   }
  },
  {
   "cell_type": "code",
   "execution_count": null,
   "outputs": [],
   "source": [
    "from utils.targets import target\n",
    "var = alfa.iloc[0]\n",
    "# var\n",
    "peb = var[\"PEBedarf\"]\n",
    "pee = var[\"PEExport\"]\n",
    "peb, pee"
   ],
   "metadata": {
    "collapsed": false,
    "pycharm": {
     "name": "#%%\n"
    }
   }
  },
  {
   "cell_type": "code",
   "execution_count": null,
   "outputs": [],
   "source": [
    "var"
   ],
   "metadata": {
    "collapsed": false,
    "pycharm": {
     "name": "#%%\n"
    }
   }
  },
  {
   "cell_type": "code",
   "execution_count": null,
   "outputs": [],
   "source": [
    "za = ZQSynergy().alpha_zielwert_ngf(var[\"GFZ\"])\n",
    "\n",
    "plt.bar([])"
   ],
   "metadata": {
    "collapsed": false,
    "pycharm": {
     "name": "#%%\n"
    }
   }
  }
 ],
 "metadata": {
  "kernelspec": {
   "name": "pycharm-fea2d4f3",
   "language": "python",
   "display_name": "PyCharm (peexcel)"
  },
  "language_info": {
   "codemirror_mode": {
    "name": "ipython",
    "version": 2
   },
   "file_extension": ".py",
   "mimetype": "text/x-python",
   "name": "python",
   "nbconvert_exporter": "python",
   "pygments_lexer": "ipython2",
   "version": "2.7.6"
  }
 },
 "nbformat": 4,
 "nbformat_minor": 0
}