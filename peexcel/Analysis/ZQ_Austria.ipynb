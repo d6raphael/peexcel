{
 "cells": [
  {
   "cell_type": "code",
   "metadata": {
    "collapsed": true,
    "pycharm": {
     "name": "#%%\n"
    }
   },
   "source": [
    "# which excels?\n",
    "\n",
    "# for each excel\n",
    "# get the variations block\n",
    "# copy it at the bottom of the Comparison tExcel\n"
   ],
   "execution_count": 1,
   "outputs": []
  },
  {
   "cell_type": "code",
   "execution_count": 2,
   "outputs": [],
   "source": [
    "from pathlib import Path\n",
    "import xlwings\n",
    "from utils import excel\n",
    "\n",
    "excel_paths = [\n",
    "    r\"C:\\Users\\Simon Schneider\\Nextcloud\\EE\\1_Forschung\\2_Laufend\\ZQ Austria\\Quartiersdaten\\PlusenergieExcel_Aichinger_211105.xlsb\",\n",
    "    r\"C:\\Users\\Simon Schneider\\Nextcloud\\EE\\1_Forschung\\2_Laufend\\ZQ Austria\\Quartiersdaten\\PlusenergieExcel_AmBichl_211105.xlsb\",\n",
    "    r\"C:\\Users\\Simon Schneider\\Nextcloud\\EE\\1_Forschung\\2_Laufend\\ZQ Austria\\Quartiersdaten\\PlusenergieExcel_Glan_211105.xlsb\",\n",
    "    r\"C:\\Users\\Simon Schneider\\Nextcloud\\EE\\1_Forschung\\2_Laufend\\ZQ Austria\\Quartiersdaten\\PlusenergieExcel_Gneis_211105.xlsb\",\n",
    "    r\"C:\\Users\\Simon Schneider\\Nextcloud\\EE\\1_Forschung\\2_Laufend\\ZQ Austria\\Quartiersdaten\\PlusenergieExcel_Graz_211105.xlsb\",\n",
    "    r\"C:\\Users\\Simon Schneider\\Nextcloud\\EE\\1_Forschung\\2_Laufend\\ZQ Austria\\Quartiersdaten\\PlusenergieExcel_Pilzgasse_211105.xlsb\",\n",
    "]\n",
    "\n",
    "paths = [Path(ep) for ep in excel_paths]\n",
    "\n",
    "aggregation_excel_path = Path(\n",
    "    r\"C:\\Users\\Simon Schneider\\Nextcloud\\EE\\1_Forschung\\2_Laufend\\ZQ Austria\\Quartiersdaten\\Quartiersvergleich211108.xlsm\")\n",
    "aggregation_sheet = \"PEExcel Import\""
   ],
   "metadata": {
    "collapsed": false,
    "pycharm": {
     "name": "#%%\n"
    }
   }
  },
  {
   "cell_type": "code",
   "execution_count": 3,
   "outputs": [],
   "source": [
    "# for path in paths:\n",
    "#     excel.append_variations_to_aggregation_sheet(\n",
    "#         peexcel_path=path,\n",
    "#         agg_book_path=aggregation_excel_path,\n",
    "#         agg_sheet_name=aggregation_sheet,\n",
    "#         close_after=True\n",
    "#     )"
   ],
   "metadata": {
    "collapsed": false,
    "pycharm": {
     "name": "#%%\n"
    }
   }
  },
  {
   "cell_type": "code",
   "execution_count": 4,
   "outputs": [
    {
     "name": "stdout",
     "output_type": "stream",
     "text": [
      "<class 'pandas.core.frame.DataFrame'>\n",
      "RangeIndex: 131 entries, 0 to 130\n",
      "Columns: 401 entries, idx to ende result saving area\n",
      "dtypes: bool(12), datetime64[ns](1), float64(356), object(32)\n",
      "memory usage: 399.8+ KB\n"
     ]
    }
   ],
   "source": [
    "import pandas as pd\n",
    "aggbook = xlwings.Book(aggregation_excel_path)\n",
    "\n",
    "def varianten(\n",
    "        book:xlwings.Book,\n",
    "        aggregation_sheet:str,\n",
    "        rowstart=2,\n",
    "        rowstop=134,\n",
    "        colstop=401\n",
    ") -> pd.DataFrame:\n",
    "\n",
    "    vars = book.sheets[aggregation_sheet]\n",
    "    range = vars[rowstart:rowstop, :colstop]\n",
    "    df = range.options(pd.DataFrame, index=False).value\n",
    "    return df\n",
    "\n",
    "df = varianten(aggbook, aggregation_sheet)\n",
    "df.info()"
   ],
   "metadata": {
    "collapsed": false,
    "pycharm": {
     "name": "#%%\n"
    }
   }
  },
  {
   "cell_type": "code",
   "execution_count": 5,
   "outputs": [
    {
     "data": {
      "text/plain": "    idx    Variantenname                          NaN        Simulation  \\\n1   2.0  Alpha - Aktuell  Aichinger 2 Alpha - Aktuell  Doppelsimulation   \n11  2.0  Alpha - Aktuell  Aichinger 2 Alpha - Aktuell  Doppelsimulation   \n\n   Berechnungszeitpunkt                                               FILE  \\\n1   2021-10-15 10:31:51  C:\\Users\\Simon Schneider\\Nextcloud\\EE\\1_Forsch...   \n11  2021-11-03 12:21:27  C:\\Users\\Simon Schneider\\Nextcloud\\EE\\1_Forsch...   \n\n      Projekt  Wohnbau NGF (m²)  Büro NGF (m²)  Schule NGF (m²)  ...  \\\n1   Aichinger            4098.7            0.0              0.0  ...   \n11  Aichinger            4098.7            0.0              0.0  ...   \n\n    Netzstrom  Abwärme      Summe       GFZ  PE-Saldo Zielwert [kWh/m²NGF]  \\\n1   18.849405      0.0  48.337082  0.751286                      24.585498   \n11   0.000000      0.0  45.972246  0.688857                      28.116259   \n\n    PE-Saldo Ziel Real[kWh/m²BGF]  \\\n1                       19.161168   \n11                      23.898820   \n\n    PE-Saldo Zielwert Großkraftwerke [kWh/m²NGF]  \\\n1                                      84.175930   \n11                                     -3.438084   \n\n   diese zellen sind mit ergbnisverweisen befüllbar  \\\n1                                              None   \n11                                             None   \n\n   diese zellen sind mit ergbnisverweisen befüllbar  ende result saving area  \n1                                              None                     None  \n11                                             None                     None  \n\n[2 rows x 401 columns]",
      "text/html": "<div>\n<style scoped>\n    .dataframe tbody tr th:only-of-type {\n        vertical-align: middle;\n    }\n\n    .dataframe tbody tr th {\n        vertical-align: top;\n    }\n\n    .dataframe thead th {\n        text-align: right;\n    }\n</style>\n<table border=\"1\" class=\"dataframe\">\n  <thead>\n    <tr style=\"text-align: right;\">\n      <th></th>\n      <th>idx</th>\n      <th>Variantenname</th>\n      <th>NaN</th>\n      <th>Simulation</th>\n      <th>Berechnungszeitpunkt</th>\n      <th>FILE</th>\n      <th>Projekt</th>\n      <th>Wohnbau NGF (m²)</th>\n      <th>Büro NGF (m²)</th>\n      <th>Schule NGF (m²)</th>\n      <th>...</th>\n      <th>Netzstrom</th>\n      <th>Abwärme</th>\n      <th>Summe</th>\n      <th>GFZ</th>\n      <th>PE-Saldo Zielwert [kWh/m²NGF]</th>\n      <th>PE-Saldo Ziel Real[kWh/m²BGF]</th>\n      <th>PE-Saldo Zielwert Großkraftwerke [kWh/m²NGF]</th>\n      <th>diese zellen sind mit ergbnisverweisen befüllbar</th>\n      <th>diese zellen sind mit ergbnisverweisen befüllbar</th>\n      <th>ende result saving area</th>\n    </tr>\n  </thead>\n  <tbody>\n    <tr>\n      <th>1</th>\n      <td>2.0</td>\n      <td>Alpha - Aktuell</td>\n      <td>Aichinger 2 Alpha - Aktuell</td>\n      <td>Doppelsimulation</td>\n      <td>2021-10-15 10:31:51</td>\n      <td>C:\\Users\\Simon Schneider\\Nextcloud\\EE\\1_Forsch...</td>\n      <td>Aichinger</td>\n      <td>4098.7</td>\n      <td>0.0</td>\n      <td>0.0</td>\n      <td>...</td>\n      <td>18.849405</td>\n      <td>0.0</td>\n      <td>48.337082</td>\n      <td>0.751286</td>\n      <td>24.585498</td>\n      <td>19.161168</td>\n      <td>84.175930</td>\n      <td>None</td>\n      <td>None</td>\n      <td>None</td>\n    </tr>\n    <tr>\n      <th>11</th>\n      <td>2.0</td>\n      <td>Alpha - Aktuell</td>\n      <td>Aichinger 2 Alpha - Aktuell</td>\n      <td>Doppelsimulation</td>\n      <td>2021-11-03 12:21:27</td>\n      <td>C:\\Users\\Simon Schneider\\Nextcloud\\EE\\1_Forsch...</td>\n      <td>Aichinger</td>\n      <td>4098.7</td>\n      <td>0.0</td>\n      <td>0.0</td>\n      <td>...</td>\n      <td>0.000000</td>\n      <td>0.0</td>\n      <td>45.972246</td>\n      <td>0.688857</td>\n      <td>28.116259</td>\n      <td>23.898820</td>\n      <td>-3.438084</td>\n      <td>None</td>\n      <td>None</td>\n      <td>None</td>\n    </tr>\n  </tbody>\n</table>\n<p>2 rows × 401 columns</p>\n</div>"
     },
     "execution_count": 5,
     "metadata": {},
     "output_type": "execute_result"
    }
   ],
   "source": [
    "# find a certain variation from the list\n",
    "\n",
    "df[\n",
    "    (df[\"Variantenname\"]==\"Alpha - Aktuell\") &\n",
    "    (df[\"Projekt\"]==\"Aichinger\")\n",
    "]"
   ],
   "metadata": {
    "collapsed": false,
    "pycharm": {
     "name": "#%%\n"
    }
   }
  },
  {
   "cell_type": "code",
   "execution_count": 21,
   "outputs": [
    {
     "ename": "TypeError",
     "evalue": "ZQSynergy() takes no arguments",
     "output_type": "error",
     "traceback": [
      "\u001B[1;31m---------------------------------------------------------------------------\u001B[0m",
      "\u001B[1;31mTypeError\u001B[0m                                 Traceback (most recent call last)",
      "\u001B[1;32m<ipython-input-21-9dedfd635c9b>\u001B[0m in \u001B[0;36m<module>\u001B[1;34m\u001B[0m\n\u001B[0;32m      5\u001B[0m     \u001B[1;34m\"\"\u001B[0m\u001B[1;33m:\u001B[0m\u001B[0mnp\u001B[0m\u001B[1;33m.\u001B[0m\u001B[0mzeros\u001B[0m\u001B[1;33m(\u001B[0m\u001B[0mlen\u001B[0m\u001B[1;33m(\u001B[0m\u001B[0mGFZ\u001B[0m\u001B[1;33m)\u001B[0m\u001B[1;33m)\u001B[0m\u001B[1;33m,\u001B[0m\u001B[1;33m\u001B[0m\u001B[1;33m\u001B[0m\u001B[0m\n\u001B[0;32m      6\u001B[0m     \u001B[1;34m\"Zielwert Alpha (PEQ okt 2021)\"\u001B[0m\u001B[1;33m:\u001B[0m \u001B[0mZQSynergy\u001B[0m\u001B[1;33m(\u001B[0m\u001B[1;33m)\u001B[0m\u001B[1;33m.\u001B[0m\u001B[0malpha_zielwert_ngf\u001B[0m\u001B[1;33m(\u001B[0m\u001B[0mGFZ\u001B[0m\u001B[1;33m=\u001B[0m\u001B[0mGFZ\u001B[0m\u001B[1;33m)\u001B[0m\u001B[1;33m,\u001B[0m\u001B[1;33m\u001B[0m\u001B[1;33m\u001B[0m\u001B[0m\n\u001B[1;32m----> 7\u001B[1;33m     \u001B[1;34m\"Zielwert Alpha (Final 2021)\"\u001B[0m\u001B[1;33m:\u001B[0m \u001B[0mZQSynergy\u001B[0m\u001B[1;33m(\u001B[0m\u001B[0mdx\u001B[0m\u001B[1;33m=\u001B[0m\u001B[1;36m0.3\u001B[0m\u001B[1;33m)\u001B[0m\u001B[1;33m.\u001B[0m\u001B[0malpha_zielwert_ngf\u001B[0m\u001B[1;33m(\u001B[0m\u001B[0mGFZ\u001B[0m\u001B[1;33m=\u001B[0m\u001B[0mGFZ\u001B[0m\u001B[1;33m)\u001B[0m\u001B[1;33m,\u001B[0m\u001B[1;33m\u001B[0m\u001B[1;33m\u001B[0m\u001B[0m\n\u001B[0m\u001B[0;32m      8\u001B[0m \u001B[1;33m\u001B[0m\u001B[0m\n\u001B[0;32m      9\u001B[0m }, index=GFZ)\n",
      "\u001B[1;31mTypeError\u001B[0m: ZQSynergy() takes no arguments"
     ]
    }
   ],
   "source": [
    "import numpy as np\n",
    "from utils.targets import ZQSynergy\n",
    "GFZ = np.linspace(0.0, 8, 800) #min, max, steps\n",
    "PEQ_alfa = pd.DataFrame({\n",
    "    \"\":np.zeros(len(GFZ)),\n",
    "    \"Zielwert Alpha (PEQ okt 2021)\": ZQSynergy().alpha_zielwert_ngf(GFZ=GFZ),\n",
    "\n",
    "}, index=GFZ)\n"
   ],
   "metadata": {
    "collapsed": false,
    "pycharm": {
     "name": "#%%\n"
    }
   }
  },
  {
   "cell_type": "code",
   "execution_count": 7,
   "outputs": [
    {
     "data": {
      "text/plain": "<Figure size 720x432 with 1 Axes>",
      "image/png": "[encoded data removed]"
     },
     "metadata": {
      "needs_background": "light"
     },
     "output_type": "display_data"
    }
   ],
   "source": [
    "import matplotlib.pyplot as plt\n",
    "from utils.plotting import target_of_gfz\n",
    "\n",
    "fig, ax = plt.subplots(1,1, figsize=(10,6))\n",
    "target_of_gfz(ax=ax, df=PEQ_alfa)\n",
    "ax.set_ylabel(\"PE-Bilanz $[{kWh/m²_{NGF}a}]$\")"
   ],
   "metadata": {
    "collapsed": false,
    "pycharm": {
     "name": "#%%\n"
    }
   }
  },
  {
   "cell_type": "code",
   "execution_count": 8,
   "outputs": [],
   "source": [
    "cols = {\n",
    "\"Alpha - Bauträger Standard\": 1.0,\n",
    "\"Alpha - Aktuell\": 2.0,\n",
    "\"Alpha - Netzdienlichkeit\": 3.0,\n",
    "\"Alpha - Min PEQ\": 4.0,\n",
    "\"Alpha - Min PEQ - Nutzerstrom 75%\": 4.5,\n",
    "\"Beta - Bauträger Standard\": 5.0,\n",
    "\"Beta - Aktuell\": 6.0,\n",
    "\"Beta - Netzdienlichkeit\": 7.0,\n",
    "\"Beta - Min PEQ\": 8.0,\n",
    "\"Beta - Min PEQ - Nutzerstrom 75%\": 8.5,\n",
    "\"Omega - Bauträger Standard\": 9.0,\n",
    "\"Omega - Aktuell\": 10.0,\n",
    "\"Omega - Netzdienlichkeit\": 11.0,\n",
    "\"Omega - Min PEQ\": 12.0,\n",
    "\"Omega - Min PEQ - Nutzerstrom 75%\": 12.5,\n",
    "}\n",
    "\n",
    "new_df = df[\n",
    "    (df.FILE != \"None\")\n",
    "]\n",
    "\n",
    "df = new_df"
   ],
   "metadata": {
    "collapsed": false,
    "pycharm": {
     "name": "#%%\n"
    }
   }
  },
  {
   "cell_type": "code",
   "execution_count": 9,
   "outputs": [
    {
     "data": {
      "text/plain": "   idx              Variantenname                                    NaN  \\\n4  5.0  Beta - Bauträger Standard  Aichinger 5 Beta - Bauträger Standard   \n\n         Simulation Berechnungszeitpunkt  \\\n4  Doppelsimulation  2021-10-18 23:22:35   \n\n                                                FILE    Projekt  \\\n4  C:\\Users\\Simon Schneider\\Nextcloud\\EE\\1_Forsch...  Aichinger   \n\n   Wohnbau NGF (m²)  Büro NGF (m²)  Schule NGF (m²)  ...  Netzstrom  Abwärme  \\\n4            4098.7            0.0              0.0  ...  26.328382      0.0   \n\n       Summe       GFZ  PE-Saldo Zielwert [kWh/m²NGF]  \\\n4  45.541339  0.751286                      24.585498   \n\n   PE-Saldo Ziel Real[kWh/m²BGF]  \\\n4                      19.161168   \n\n   PE-Saldo Zielwert Großkraftwerke [kWh/m²NGF]  \\\n4                                     -0.657976   \n\n  diese zellen sind mit ergbnisverweisen befüllbar  \\\n4                                             None   \n\n  diese zellen sind mit ergbnisverweisen befüllbar  ende result saving area  \n4                                             None                     None  \n\n[1 rows x 401 columns]",
      "text/html": "<div>\n<style scoped>\n    .dataframe tbody tr th:only-of-type {\n        vertical-align: middle;\n    }\n\n    .dataframe tbody tr th {\n        vertical-align: top;\n    }\n\n    .dataframe thead th {\n        text-align: right;\n    }\n</style>\n<table border=\"1\" class=\"dataframe\">\n  <thead>\n    <tr style=\"text-align: right;\">\n      <th></th>\n      <th>idx</th>\n      <th>Variantenname</th>\n      <th>NaN</th>\n      <th>Simulation</th>\n      <th>Berechnungszeitpunkt</th>\n      <th>FILE</th>\n      <th>Projekt</th>\n      <th>Wohnbau NGF (m²)</th>\n      <th>Büro NGF (m²)</th>\n      <th>Schule NGF (m²)</th>\n      <th>...</th>\n      <th>Netzstrom</th>\n      <th>Abwärme</th>\n      <th>Summe</th>\n      <th>GFZ</th>\n      <th>PE-Saldo Zielwert [kWh/m²NGF]</th>\n      <th>PE-Saldo Ziel Real[kWh/m²BGF]</th>\n      <th>PE-Saldo Zielwert Großkraftwerke [kWh/m²NGF]</th>\n      <th>diese zellen sind mit ergbnisverweisen befüllbar</th>\n      <th>diese zellen sind mit ergbnisverweisen befüllbar</th>\n      <th>ende result saving area</th>\n    </tr>\n  </thead>\n  <tbody>\n    <tr>\n      <th>4</th>\n      <td>5.0</td>\n      <td>Beta - Bauträger Standard</td>\n      <td>Aichinger 5 Beta - Bauträger Standard</td>\n      <td>Doppelsimulation</td>\n      <td>2021-10-18 23:22:35</td>\n      <td>C:\\Users\\Simon Schneider\\Nextcloud\\EE\\1_Forsch...</td>\n      <td>Aichinger</td>\n      <td>4098.7</td>\n      <td>0.0</td>\n      <td>0.0</td>\n      <td>...</td>\n      <td>26.328382</td>\n      <td>0.0</td>\n      <td>45.541339</td>\n      <td>0.751286</td>\n      <td>24.585498</td>\n      <td>19.161168</td>\n      <td>-0.657976</td>\n      <td>None</td>\n      <td>None</td>\n      <td>None</td>\n    </tr>\n  </tbody>\n</table>\n<p>1 rows × 401 columns</p>\n</div>"
     },
     "execution_count": 9,
     "metadata": {},
     "output_type": "execute_result"
    }
   ],
   "source": [
    "dsm_df = new_df[\n",
    "    (new_df.index.isin([4.0,4.5]))\n",
    "]\n",
    "dsm_df\n"
   ],
   "metadata": {
    "collapsed": false,
    "pycharm": {
     "name": "#%%\n"
    }
   }
  },
  {
   "cell_type": "code",
   "source": [
    "# get variants\n",
    "# s2 = aggbook.sheets[4]\n",
    "# local_addr = s2[\"M5\"].formula.split(\"!\")[1]\n",
    "# aggsheet = aggbook.sheets[aggregation_sheet]\n",
    "# new_df.columns[aggsheet[local_addr].column-2]"
   ],
   "metadata": {
    "collapsed": false,
    "pycharm": {
     "name": "#%%\n"
    }
   },
   "execution_count": 10,
   "outputs": []
  },
  {
   "cell_type": "markdown",
   "source": [
    "we commonly need to transform the df into a flat version,\n",
    " with an additional column *calc_type*:\n",
    " * Erdgas,\n",
    " * FW,\n",
    " * HP /wo DSM,\n",
    " * HP /w DSM\n"
   ],
   "metadata": {
    "collapsed": false,
    "pycharm": {
     "name": "#%% md\n"
    }
   }
  },
  {
   "cell_type": "code",
   "execution_count": 11,
   "outputs": [],
   "source": [
    "# df_inputs\n",
    "vars = aggbook.sheets[aggregation_sheet]\n",
    "range = vars[2:134, :204]\n",
    "df_inputslarge = range.options(pd.DataFrame, index=False).value\n",
    "df_gfzblock = vars[2:134, 394:397].options(pd.DataFrame, index=False).value\n",
    "#joining GFZ shit\n",
    "df_inputs = df_gfzblock.join(df_inputslarge)"
   ],
   "metadata": {
    "collapsed": false,
    "pycharm": {
     "name": "#%%\n"
    }
   }
  },
  {
   "cell_type": "code",
   "execution_count": 12,
   "outputs": [],
   "source": [
    "# df_gas\n",
    "range = vars[1:134, 204:224]\n",
    "df_gas = range.options(pd.DataFrame, index=False).value\n",
    "df_gas[\"energy_system\"] = \"Erdgas\"\n",
    "# df_distheat\n",
    "range = vars[1:134, 224:244]\n",
    "df_distheat = range.options(pd.DataFrame, index=False).value\n",
    "df_distheat[\"energy_system\"] = \"Fernwärme\"\n",
    "# df_HPwoDSM\n",
    "range = vars[1:134, 244:264]\n",
    "df_HPwoDSM = range.options(pd.DataFrame, index=False).value\n",
    "df_HPwoDSM[\"energy_system\"] = \"Wärmepumpe (OHNE DSM)\"\n",
    "# df_HPwDSM\n",
    "range = vars[1:134, 308:328]\n",
    "df_HPwDSM = range.options(pd.DataFrame, index=False).value\n",
    "df_HPwDSM[\"energy_system\"] = \"Wärmepumpe (mit DSM)\""
   ],
   "metadata": {
    "collapsed": false,
    "pycharm": {
     "name": "#%%\n"
    }
   }
  },
  {
   "cell_type": "code",
   "execution_count": 13,
   "outputs": [],
   "source": [
    "# concatenate all dfs\n",
    "i = np.arange(132)\n",
    "df1 = pd.concat([df_gas, df_inputs], axis=1)#.set_index([i,i]).reset_index(level=0)\n",
    "i2 = i+132\n",
    "df2 = pd.concat([df_distheat, df_inputs], axis=1)#.set_index([i,i2]).reset_index(level=0)\n",
    "i3 = i2+132\n",
    "df3 = pd.concat([df_HPwoDSM, df_inputs], axis=1)#.set_index([i,i3]).reset_index(level=0)\n",
    "i4 = i3+132\n",
    "df4 = pd.concat([df_HPwDSM, df_inputs ], axis=1)#\\\n",
    " #   .set_index([i,i4], drop=True)\\\n",
    "#    .reset_index(level=0)\n",
    "\n",
    "# df.shape"
   ],
   "metadata": {
    "collapsed": false,
    "pycharm": {
     "name": "#%%\n"
    }
   }
  },
  {
   "cell_type": "code",
   "execution_count": 14,
   "outputs": [],
   "source": [
    "from enum import Enum, auto\n",
    "# vars[\"K2\"].value\n",
    "class EnerSys(Enum):\n",
    "    gas = auto()\n",
    "    dh = auto()\n",
    "    hp_wo_dsm = auto()\n",
    "    hp_w_dsm = auto()"
   ],
   "metadata": {
    "collapsed": false,
    "pycharm": {
     "name": "#%%\n"
    }
   }
  },
  {
   "cell_type": "code",
   "execution_count": 15,
   "outputs": [
    {
     "name": "stdout",
     "output_type": "stream",
     "text": [
      "EnerSys.gas\n",
      "EnerSys.dh\n",
      "EnerSys.hp_wo_dsm\n",
      "EnerSys.hp_w_dsm\n"
     ]
    }
   ],
   "source": [
    "for n in EnerSys:\n",
    "    print(n)"
   ],
   "metadata": {
    "collapsed": false,
    "pycharm": {
     "name": "#%%\n"
    }
   }
  },
  {
   "cell_type": "code",
   "execution_count": 16,
   "outputs": [],
   "source": [
    "\n",
    "result_map_NGF = {\n",
    "    EnerSys.gas: {\n",
    "        \"PEBedarf\": {\"abc\": \"GW\", \"num\":204},\n",
    "        \"PEExport\": {\"abc\": \"GX\", \"num\":205},\n",
    "        \"PESaldo\": {\"abc\": \"GY\", \"num\":206},\n",
    "        \"Alpha - Dichteausgleich [kWh/m²NGF]\": {\n",
    "            \"abc\": \"HA\", \"num\":208},\n",
    "    },\n",
    "    EnerSys.dh: {\n",
    "        \"PEBedarf\": {\"abc\": \"HQ\", \"num\":224},\n",
    "        \"PEExport\": {\"abc\": \"HR\", \"num\":225},\n",
    "        \"PESaldo\": {\"abc\": \"HS\", \"num\":226},\n",
    "        \"Alpha - Dichteausgleich [kWh/m²NGF]\": {\n",
    "            \"abc\": \"HU\", \"num\":228},\n",
    "    },\n",
    "    EnerSys.hp_wo_dsm: {\n",
    "        \"PEBedarf\": {\"abc\": \"IK\", \"num\":244},\n",
    "        \"PEExport\": {\"abc\": \"IL\", \"num\":245},\n",
    "        \"PESaldo\": {\"abc\": \"IM\", \"num\":246},\n",
    "        \"Alpha - Dichteausgleich [kWh/m²NGF]\": {\n",
    "            \"abc\": \"IO\", \"num\":248},\n",
    "    },\n",
    "    EnerSys.hp_w_dsm: {\n",
    "        \"PEBedarf\": {\"abc\": \"KW\", \"num\":308},\n",
    "        \"PEExport\": {\"abc\": \"KX\", \"num\":309},\n",
    "        \"PESaldo\": {\"abc\": \"KY\", \"num\":310},\n",
    "        \"Alpha - Dichteausgleich [kWh/m²NGF]\": {\n",
    "            \"abc\": \"LA\", \"num\":312},\n",
    "    }\n",
    "}\n"
   ],
   "metadata": {
    "collapsed": false,
    "pycharm": {
     "name": "#%%\n"
    }
   }
  },
  {
   "cell_type": "code",
   "execution_count": 17,
   "outputs": [],
   "source": [
    "def address(system:EnerSys, index, col:str, row_offset=3, mapping=result_map_NGF):\n",
    "    addr = mapping[system][col][\"abc\"]\n",
    "    return addr+str(index+row_offset)\n"
   ],
   "metadata": {
    "collapsed": false,
    "pycharm": {
     "name": "#%%\n"
    }
   }
  },
  {
   "cell_type": "code",
   "execution_count": 18,
   "outputs": [
    {
     "data": {
      "text/plain": "'PEBedarf'"
     },
     "execution_count": 18,
     "metadata": {},
     "output_type": "execute_result"
    }
   ],
   "source": [
    "aggsheet = vars\n",
    "a1 = address(EnerSys.hp_wo_dsm, 0, \"PEBedarf\")\n",
    "aggsheet[a1].value"
   ],
   "metadata": {
    "collapsed": false,
    "pycharm": {
     "name": "#%%\n"
    }
   }
  },
  {
   "cell_type": "code",
   "execution_count": 19,
   "outputs": [
    {
     "ename": "KeyError",
     "evalue": "'PEBedarf'",
     "output_type": "error",
     "traceback": [
      "\u001B[1;31m---------------------------------------------------------------------------\u001B[0m",
      "\u001B[1;31mKeyError\u001B[0m                                  Traceback (most recent call last)",
      "\u001B[1;32m~\\anaconda\\envs\\pyped\\lib\\site-packages\\pandas\\core\\indexes\\base.py\u001B[0m in \u001B[0;36mget_loc\u001B[1;34m(self, key, method, tolerance)\u001B[0m\n\u001B[0;32m   3360\u001B[0m             \u001B[1;32mtry\u001B[0m\u001B[1;33m:\u001B[0m\u001B[1;33m\u001B[0m\u001B[1;33m\u001B[0m\u001B[0m\n\u001B[1;32m-> 3361\u001B[1;33m                 \u001B[1;32mreturn\u001B[0m \u001B[0mself\u001B[0m\u001B[1;33m.\u001B[0m\u001B[0m_engine\u001B[0m\u001B[1;33m.\u001B[0m\u001B[0mget_loc\u001B[0m\u001B[1;33m(\u001B[0m\u001B[0mcasted_key\u001B[0m\u001B[1;33m)\u001B[0m\u001B[1;33m\u001B[0m\u001B[1;33m\u001B[0m\u001B[0m\n\u001B[0m\u001B[0;32m   3362\u001B[0m             \u001B[1;32mexcept\u001B[0m \u001B[0mKeyError\u001B[0m \u001B[1;32mas\u001B[0m \u001B[0merr\u001B[0m\u001B[1;33m:\u001B[0m\u001B[1;33m\u001B[0m\u001B[1;33m\u001B[0m\u001B[0m\n",
      "\u001B[1;32m~\\anaconda\\envs\\pyped\\lib\\site-packages\\pandas\\_libs\\index.pyx\u001B[0m in \u001B[0;36mpandas._libs.index.IndexEngine.get_loc\u001B[1;34m()\u001B[0m\n",
      "\u001B[1;32m~\\anaconda\\envs\\pyped\\lib\\site-packages\\pandas\\_libs\\index.pyx\u001B[0m in \u001B[0;36mpandas._libs.index.IndexEngine.get_loc\u001B[1;34m()\u001B[0m\n",
      "\u001B[1;32m~\\anaconda\\envs\\pyped\\lib\\site-packages\\pandas\\_libs\\index.pyx\u001B[0m in \u001B[0;36mpandas._libs.index.IndexEngine._get_loc_duplicates\u001B[1;34m()\u001B[0m\n",
      "\u001B[1;32m~\\anaconda\\envs\\pyped\\lib\\site-packages\\pandas\\_libs\\index.pyx\u001B[0m in \u001B[0;36mpandas._libs.index.IndexEngine._maybe_get_bool_indexer\u001B[1;34m()\u001B[0m\n",
      "\u001B[1;32m~\\anaconda\\envs\\pyped\\lib\\site-packages\\pandas\\_libs\\index.pyx\u001B[0m in \u001B[0;36mpandas._libs.index.IndexEngine._unpack_bool_indexer\u001B[1;34m()\u001B[0m\n",
      "\u001B[1;31mKeyError\u001B[0m: 'PEBedarf'",
      "\nThe above exception was the direct cause of the following exception:\n",
      "\u001B[1;31mKeyError\u001B[0m                                  Traceback (most recent call last)",
      "\u001B[1;32m<ipython-input-19-855008e0e0d5>\u001B[0m in \u001B[0;36m<module>\u001B[1;34m\u001B[0m\n\u001B[1;32m----> 1\u001B[1;33m \u001B[0mdf1\u001B[0m\u001B[1;33m[\u001B[0m\u001B[1;34m\"PEBedarf\"\u001B[0m\u001B[1;33m]\u001B[0m\u001B[1;33m\u001B[0m\u001B[1;33m\u001B[0m\u001B[0m\n\u001B[0m\u001B[0;32m      2\u001B[0m \u001B[1;33m\u001B[0m\u001B[0m\n",
      "\u001B[1;32m~\\anaconda\\envs\\pyped\\lib\\site-packages\\pandas\\core\\frame.py\u001B[0m in \u001B[0;36m__getitem__\u001B[1;34m(self, key)\u001B[0m\n\u001B[0;32m   3456\u001B[0m             \u001B[1;32mif\u001B[0m \u001B[0mself\u001B[0m\u001B[1;33m.\u001B[0m\u001B[0mcolumns\u001B[0m\u001B[1;33m.\u001B[0m\u001B[0mnlevels\u001B[0m \u001B[1;33m>\u001B[0m \u001B[1;36m1\u001B[0m\u001B[1;33m:\u001B[0m\u001B[1;33m\u001B[0m\u001B[1;33m\u001B[0m\u001B[0m\n\u001B[0;32m   3457\u001B[0m                 \u001B[1;32mreturn\u001B[0m \u001B[0mself\u001B[0m\u001B[1;33m.\u001B[0m\u001B[0m_getitem_multilevel\u001B[0m\u001B[1;33m(\u001B[0m\u001B[0mkey\u001B[0m\u001B[1;33m)\u001B[0m\u001B[1;33m\u001B[0m\u001B[1;33m\u001B[0m\u001B[0m\n\u001B[1;32m-> 3458\u001B[1;33m             \u001B[0mindexer\u001B[0m \u001B[1;33m=\u001B[0m \u001B[0mself\u001B[0m\u001B[1;33m.\u001B[0m\u001B[0mcolumns\u001B[0m\u001B[1;33m.\u001B[0m\u001B[0mget_loc\u001B[0m\u001B[1;33m(\u001B[0m\u001B[0mkey\u001B[0m\u001B[1;33m)\u001B[0m\u001B[1;33m\u001B[0m\u001B[1;33m\u001B[0m\u001B[0m\n\u001B[0m\u001B[0;32m   3459\u001B[0m             \u001B[1;32mif\u001B[0m \u001B[0mis_integer\u001B[0m\u001B[1;33m(\u001B[0m\u001B[0mindexer\u001B[0m\u001B[1;33m)\u001B[0m\u001B[1;33m:\u001B[0m\u001B[1;33m\u001B[0m\u001B[1;33m\u001B[0m\u001B[0m\n\u001B[0;32m   3460\u001B[0m                 \u001B[0mindexer\u001B[0m \u001B[1;33m=\u001B[0m \u001B[1;33m[\u001B[0m\u001B[0mindexer\u001B[0m\u001B[1;33m]\u001B[0m\u001B[1;33m\u001B[0m\u001B[1;33m\u001B[0m\u001B[0m\n",
      "\u001B[1;32m~\\anaconda\\envs\\pyped\\lib\\site-packages\\pandas\\core\\indexes\\base.py\u001B[0m in \u001B[0;36mget_loc\u001B[1;34m(self, key, method, tolerance)\u001B[0m\n\u001B[0;32m   3361\u001B[0m                 \u001B[1;32mreturn\u001B[0m \u001B[0mself\u001B[0m\u001B[1;33m.\u001B[0m\u001B[0m_engine\u001B[0m\u001B[1;33m.\u001B[0m\u001B[0mget_loc\u001B[0m\u001B[1;33m(\u001B[0m\u001B[0mcasted_key\u001B[0m\u001B[1;33m)\u001B[0m\u001B[1;33m\u001B[0m\u001B[1;33m\u001B[0m\u001B[0m\n\u001B[0;32m   3362\u001B[0m             \u001B[1;32mexcept\u001B[0m \u001B[0mKeyError\u001B[0m \u001B[1;32mas\u001B[0m \u001B[0merr\u001B[0m\u001B[1;33m:\u001B[0m\u001B[1;33m\u001B[0m\u001B[1;33m\u001B[0m\u001B[0m\n\u001B[1;32m-> 3363\u001B[1;33m                 \u001B[1;32mraise\u001B[0m \u001B[0mKeyError\u001B[0m\u001B[1;33m(\u001B[0m\u001B[0mkey\u001B[0m\u001B[1;33m)\u001B[0m \u001B[1;32mfrom\u001B[0m \u001B[0merr\u001B[0m\u001B[1;33m\u001B[0m\u001B[1;33m\u001B[0m\u001B[0m\n\u001B[0m\u001B[0;32m   3364\u001B[0m \u001B[1;33m\u001B[0m\u001B[0m\n\u001B[0;32m   3365\u001B[0m         \u001B[1;32mif\u001B[0m \u001B[0mis_scalar\u001B[0m\u001B[1;33m(\u001B[0m\u001B[0mkey\u001B[0m\u001B[1;33m)\u001B[0m \u001B[1;32mand\u001B[0m \u001B[0misna\u001B[0m\u001B[1;33m(\u001B[0m\u001B[0mkey\u001B[0m\u001B[1;33m)\u001B[0m \u001B[1;32mand\u001B[0m \u001B[1;32mnot\u001B[0m \u001B[0mself\u001B[0m\u001B[1;33m.\u001B[0m\u001B[0mhasnans\u001B[0m\u001B[1;33m:\u001B[0m\u001B[1;33m\u001B[0m\u001B[1;33m\u001B[0m\u001B[0m\n",
      "\u001B[1;31mKeyError\u001B[0m: 'PEBedarf'"
     ]
    }
   ],
   "source": [
    "df1[\"PEBedarf\"]"
   ],
   "metadata": {
    "collapsed": false,
    "pycharm": {
     "name": "#%%\n"
    }
   }
  },
  {
   "cell_type": "markdown",
   "source": [
    "Zuerst einmal ein Sanity check:\n",
    "In welchen Input Kategorien unterscheiden sich die Varianten nicht?"
   ],
   "metadata": {
    "collapsed": false,
    "pycharm": {
     "name": "#%% md\n"
    }
   }
  },
  {
   "cell_type": "code",
   "execution_count": null,
   "outputs": [],
   "source": [
    "projects = df_inputs.Projekt.unique()\n",
    "projects"
   ],
   "metadata": {
    "collapsed": false,
    "pycharm": {
     "name": "#%%\n"
    }
   }
  },
  {
   "cell_type": "code",
   "execution_count": null,
   "outputs": [],
   "source": [
    "varianten = df_inputs.Variantenname.unique()\n",
    "varianten\n"
   ],
   "metadata": {
    "collapsed": false,
    "pycharm": {
     "name": "#%%\n"
    }
   }
  },
  {
   "cell_type": "code",
   "execution_count": null,
   "outputs": [],
   "source": [
    "bauweisen = df_inputs[\"Gewählte Variante\"].unique()\n",
    "bauweisen, len(bauweisen)"
   ],
   "metadata": {
    "collapsed": false,
    "pycharm": {
     "name": "#%%\n"
    }
   }
  },
  {
   "cell_type": "code",
   "execution_count": null,
   "outputs": [],
   "source": [
    "sonnenschutz = df_inputs[\"Mobiler Sommerlicher Sonnenschutz\"].unique()\n",
    "sonnenschutz, len(sonnenschutz)\n"
   ],
   "metadata": {
    "collapsed": false,
    "pycharm": {
     "name": "#%%\n"
    }
   }
  },
  {
   "cell_type": "code",
   "execution_count": null,
   "outputs": [],
   "source": [
    "view2 = df2[df2.idx.isin([1.,5.,9.])].copy()\n",
    "view3 = df3[df3.idx.isin([2.,6.,10.])].copy()\n",
    "view4 = df4[df4.idx.isin([3.,4.0,4.5,7.,8.,8.5,11.,12.,12.5])].copy()\n",
    "view = pd.concat([view2,view3, view4])"
   ],
   "metadata": {
    "collapsed": false,
    "pycharm": {
     "name": "#%%\n"
    }
   }
  },
  {
   "cell_type": "code",
   "execution_count": null,
   "outputs": [],
   "source": [
    "view = view[view.FILE != \"None\"]"
   ],
   "metadata": {
    "collapsed": false,
    "pycharm": {
     "name": "#%%\n"
    }
   }
  },
  {
   "cell_type": "code",
   "execution_count": null,
   "outputs": [],
   "source": [
    "aggbook.sheets[\"Varianten\"][\"A1\"].value     = view"
   ],
   "metadata": {
    "collapsed": false,
    "pycharm": {
     "name": "#%%\n"
    }
   }
  },
  {
   "cell_type": "code",
   "execution_count": null,
   "outputs": [],
   "source": [
    "import seaborn as sns\n",
    "\n",
    "alfa = view[view[\"Variantenname\"].str.contains(\"Alpha\")]\n",
    "alfa[\"PEExport\"]"
   ],
   "metadata": {
    "collapsed": false,
    "pycharm": {
     "name": "#%%\n"
    }
   }
  },
  {
   "cell_type": "code",
   "execution_count": null,
   "outputs": [],
   "source": [
    "sns.scatterplot(data=alfa,\n",
    "            x=\"PEBedarf\",\n",
    "            y=\"PEExport\",\n",
    "            hue=\"Projekt\")"
   ],
   "metadata": {
    "collapsed": false,
    "pycharm": {
     "name": "#%%\n"
    }
   }
  },
  {
   "cell_type": "code",
   "execution_count": null,
   "outputs": [],
   "source": [
    "from utils.targets import target\n",
    "var = alfa.iloc[0]\n",
    "# var\n",
    "peb = var[\"PEBedarf\"]\n",
    "pee = var[\"PEExport\"]\n",
    "peb, pee"
   ],
   "metadata": {
    "collapsed": false,
    "pycharm": {
     "name": "#%%\n"
    }
   }
  },
  {
   "cell_type": "code",
   "execution_count": null,
   "outputs": [],
   "source": [
    "var"
   ],
   "metadata": {
    "collapsed": false,
    "pycharm": {
     "name": "#%%\n"
    }
   }
  },
  {
   "cell_type": "code",
   "execution_count": null,
   "outputs": [],
   "source": [
    "za = ZQSynergy().alpha_zielwert_ngf(var[\"GFZ\"])\n",
    "\n",
    "plt.bar([])"
   ],
   "metadata": {
    "collapsed": false,
    "pycharm": {
     "name": "#%%\n"
    }
   }
  }
 ],
 "metadata": {
  "kernelspec": {
   "name": "pyped",
   "language": "python",
   "display_name": "pyped"
  },
  "language_info": {
   "codemirror_mode": {
    "name": "ipython",
    "version": 2
   },
   "file_extension": ".py",
   "mimetype": "text/x-python",
   "name": "python",
   "nbconvert_exporter": "python",
   "pygments_lexer": "ipython2",
   "version": "2.7.6"
  }
 },
 "nbformat": 4,
 "nbformat_minor": 0
}