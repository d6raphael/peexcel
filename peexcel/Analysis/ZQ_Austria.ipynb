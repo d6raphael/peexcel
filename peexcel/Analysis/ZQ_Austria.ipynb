{
 "cells": [
  {
   "cell_type": "code",
   "metadata": {
    "collapsed": true,
    "pycharm": {
     "name": "#%%\n"
    }
   },
   "source": [
    "# which excels?\n",
    "\n",
    "# for each excel\n",
    "# get the variations block\n",
    "# copy it at the bottom of the Comparison Excel\n"
   ],
   "execution_count": 4,
   "outputs": []
  },
  {
   "cell_type": "code",
   "execution_count": 5,
   "outputs": [],
   "source": [
    "from pathlib import Path\n",
    "import xlwings\n",
    "from utils import excel\n",
    "\n",
    "excel_paths = [\n",
    "    r\"C:\\Users\\Simon Schneider\\Nextcloud\\EE\\1_Forschung\\2_Laufend\\ZQ Austria\\Quartiersdaten\\PlusenergieExcel_Aichinger_211021.xlsb\",\n",
    "    r\"C:\\Users\\Simon Schneider\\Nextcloud\\EE\\1_Forschung\\2_Laufend\\ZQ Austria\\Quartiersdaten\\PlusenergieExcel_AmBichl_211022.xlsb\",\n",
    "    r\"C:\\Users\\Simon Schneider\\Nextcloud\\EE\\1_Forschung\\2_Laufend\\ZQ Austria\\Quartiersdaten\\PlusenergieExcel_Glan_211022.xlsb\",\n",
    "    r\"C:\\Users\\Simon Schneider\\Nextcloud\\EE\\1_Forschung\\2_Laufend\\ZQ Austria\\Quartiersdaten\\PlusenergieExcel_Gneis_211022.xlsb\",\n",
    "    r\"C:\\Users\\Simon Schneider\\Nextcloud\\EE\\1_Forschung\\2_Laufend\\ZQ Austria\\Quartiersdaten\\PlusenergieExcel_Graz_211022.xlsb\",\n",
    "\n",
    "]\n",
    "\n",
    "paths = [Path(ep) for ep in excel_paths]\n",
    "\n",
    "aggregation_excel_path = Path(r\"C:\\Users\\Simon Schneider\\Nextcloud\\EE\\1_Forschung\\2_Laufend\\ZQ Austria\\Quartiersdaten\\Quartiersvergleich211027.xlsm\")"
   ],
   "metadata": {
    "collapsed": false,
    "pycharm": {
     "name": "#%%\n"
    }
   }
  },
  {
   "cell_type": "code",
   "execution_count": 6,
   "outputs": [
    {
     "name": "stdout",
     "output_type": "stream",
     "text": [
      "134 0 to 149 401\n",
      "146 0 to 164 401\n",
      "161 0 to 179 401\n",
      "176 0 to 194 401\n",
      "191 0 to 209 401\n"
     ]
    }
   ],
   "source": [
    "for path in paths:\n",
    "    excel.append_variations_to_aggregation_sheet(\n",
    "        peexcel_path=path,\n",
    "        agg_book_path=aggregation_excel_path,\n",
    "        agg_sheet_name=\"PEExcel Import\",\n",
    "        close_after=True\n",
    "    )"
   ],
   "metadata": {
    "collapsed": false,
    "pycharm": {
     "name": "#%%\n"
    }
   }
  }
 ],
 "metadata": {
  "kernelspec": {
   "name": "pyped",
   "language": "python",
   "display_name": "pyped"
  },
  "language_info": {
   "codemirror_mode": {
    "name": "ipython",
    "version": 2
   },
   "file_extension": ".py",
   "mimetype": "text/x-python",
   "name": "python",
   "nbconvert_exporter": "python",
   "pygments_lexer": "ipython2",
   "version": "2.7.6"
  }
 },
 "nbformat": 4,
 "nbformat_minor": 0
}