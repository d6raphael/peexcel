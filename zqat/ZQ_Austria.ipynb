{
 "cells": [
  {
   "cell_type": "code",
   "metadata": {
    "collapsed": true,
    "pycharm": {
     "name": "#%%\n"
    }
   },
   "source": [
    "# which excels?\n",
    "\n",
    "# for each excel\n",
    "# get the variations block\n",
    "# copy it at the bottom of the Comparison tExcel\n"
   ],
   "execution_count": 1,
   "outputs": []
  },
  {
   "cell_type": "code",
   "execution_count": 2,
   "outputs": [],
   "source": [
    "from pathlib import Path\n",
    "import xlwings\n",
    "from utils import excel\n",
    "\n",
    "excel_paths = [\n",
    "    r\"C:\\Users\\Simon Schneider\\Nextcloud\\EE\\1_Forschung\\2_Laufend\\ZQ Austria\\Quartiersdaten\\PlusenergieExcel_Aichinger_211105.xlsb\",\n",
    "    r\"C:\\Users\\Simon Schneider\\Nextcloud\\EE\\1_Forschung\\2_Laufend\\ZQ Austria\\Quartiersdaten\\PlusenergieExcel_AmBichl_211105.xlsb\",\n",
    "    r\"C:\\Users\\Simon Schneider\\Nextcloud\\EE\\1_Forschung\\2_Laufend\\ZQ Austria\\Quartiersdaten\\PlusenergieExcel_Glan_211105.xlsb\",\n",
    "    r\"C:\\Users\\Simon Schneider\\Nextcloud\\EE\\1_Forschung\\2_Laufend\\ZQ Austria\\Quartiersdaten\\PlusenergieExcel_Gneis_211105.xlsb\",\n",
    "    r\"C:\\Users\\Simon Schneider\\Nextcloud\\EE\\1_Forschung\\2_Laufend\\ZQ Austria\\Quartiersdaten\\PlusenergieExcel_Graz_211105.xlsb\",\n",
    "    r\"C:\\Users\\Simon Schneider\\Nextcloud\\EE\\1_Forschung\\2_Laufend\\ZQ Austria\\Quartiersdaten\\PlusenergieExcel_Pilzgasse_211105.xlsb\",\n",
    "]\n",
    "\n",
    "paths = [Path(ep) for ep in excel_paths]\n",
    "\n",
    "varianten_file = \"Quartiersvergleich211129cleaned.xlsx\"\n",
    "\n",
    "aggregation_excel_path = Path(r\"C:\\Users\\Simon Schneider\\Nextcloud\\EE\\6_Daten\\Quartiere\",varianten_file)\n",
    "aggregation_sheet = \"PEExcel Import\""
   ],
   "metadata": {
    "collapsed": false,
    "pycharm": {
     "name": "#%%\n"
    }
   }
  },
  {
   "cell_type": "code",
   "execution_count": 3,
   "outputs": [],
   "source": [
    "# for path in paths:\n",
    "#     excel.append_variations_to_aggregation_sheet(\n",
    "#         peexcel_path=path,\n",
    "#         agg_book_path=aggregation_excel_path,\n",
    "#         agg_sheet_name=aggregation_sheet,\n",
    "#         close_after=True\n",
    "#     )"
   ],
   "metadata": {
    "collapsed": false,
    "pycharm": {
     "name": "#%%\n"
    }
   }
  },
  {
   "cell_type": "code",
   "execution_count": 4,
   "outputs": [
    {
     "name": "stdout",
     "output_type": "stream",
     "text": [
      "C:\\Users\\Simon Schneider\\Nextcloud\\EE\\6_Daten\\Quartiere\\Quartiersvergleich211129cleaned.xlsx\n"
     ]
    }
   ],
   "source": [
    "import pandas as pd\n",
    "print(aggregation_excel_path)"
   ],
   "metadata": {
    "collapsed": false,
    "pycharm": {
     "name": "#%%\n"
    }
   }
  },
  {
   "cell_type": "code",
   "execution_count": 5,
   "outputs": [
    {
     "name": "stdout",
     "output_type": "stream",
     "text": [
      "<class 'pandas.core.frame.DataFrame'>\n",
      "RangeIndex: 239 entries, 0 to 238\n",
      "Columns: 401 entries, idx to ende result saving area\n",
      "dtypes: float64(358), object(43)\n",
      "memory usage: 748.9+ KB\n"
     ]
    }
   ],
   "source": [
    "aggbook = xlwings.Book(aggregation_excel_path)\n",
    "\n",
    "def varianten(\n",
    "        book:xlwings.Book,\n",
    "        aggregation_sheet:str,\n",
    "        rowstart=2,\n",
    "        rowstop=242,\n",
    "        colstop=401\n",
    ") -> pd.DataFrame:\n",
    "\n",
    "    vars = book.sheets[aggregation_sheet]\n",
    "    range = vars[rowstart:rowstop, :colstop]\n",
    "    df = range.options(pd.DataFrame, index=False).value\n",
    "    return df\n",
    "\n",
    "df = varianten(aggbook, aggregation_sheet)\n",
    "df.info()"
   ],
   "metadata": {
    "collapsed": false,
    "pycharm": {
     "name": "#%%\n"
    }
   }
  },
  {
   "cell_type": "code",
   "execution_count": 6,
   "outputs": [
    {
     "data": {
      "text/plain": "   idx    Variantenname                     longname        Simulation  \\\n1  2.0  Alpha - Aktuell  Aichinger 2 Alpha - Aktuell  Doppelsimulation   \n\n  Berechnungszeitpunkt    FILE    Projekt  Wohnbau NGF (m²)  Büro NGF (m²)  \\\n1  2021-11-24 15:12:07  latest  Aichinger             123.8            0.0   \n\n   Schule NGF (m²)  ...  Netzstrom  Abwärme      Summe       GFZ  \\\n1              0.0  ...  13.777718      0.0  40.061759  0.234899   \n\n   PE-Saldo Zielwert [kWh/m²NGF]  PE-Saldo Ziel Real[kWh/m²BGF]  \\\n1                     121.154503                      85.708157   \n\n   PE-Saldo Zielwert Großkraftwerke [kWh/m²NGF]  \\\n1                                      97.91429   \n\n  diese zellen sind mit ergbnisverweisen befüllbar  \\\n1                                            0.684   \n\n  diese zellen sind mit ergbnisverweisen befüllbar  ende result saving area  \n1                                         0.830531                     None  \n\n[1 rows x 401 columns]",
      "text/html": "<div>\n<style scoped>\n    .dataframe tbody tr th:only-of-type {\n        vertical-align: middle;\n    }\n\n    .dataframe tbody tr th {\n        vertical-align: top;\n    }\n\n    .dataframe thead th {\n        text-align: right;\n    }\n</style>\n<table border=\"1\" class=\"dataframe\">\n  <thead>\n    <tr style=\"text-align: right;\">\n      <th></th>\n      <th>idx</th>\n      <th>Variantenname</th>\n      <th>longname</th>\n      <th>Simulation</th>\n      <th>Berechnungszeitpunkt</th>\n      <th>FILE</th>\n      <th>Projekt</th>\n      <th>Wohnbau NGF (m²)</th>\n      <th>Büro NGF (m²)</th>\n      <th>Schule NGF (m²)</th>\n      <th>...</th>\n      <th>Netzstrom</th>\n      <th>Abwärme</th>\n      <th>Summe</th>\n      <th>GFZ</th>\n      <th>PE-Saldo Zielwert [kWh/m²NGF]</th>\n      <th>PE-Saldo Ziel Real[kWh/m²BGF]</th>\n      <th>PE-Saldo Zielwert Großkraftwerke [kWh/m²NGF]</th>\n      <th>diese zellen sind mit ergbnisverweisen befüllbar</th>\n      <th>diese zellen sind mit ergbnisverweisen befüllbar</th>\n      <th>ende result saving area</th>\n    </tr>\n  </thead>\n  <tbody>\n    <tr>\n      <th>1</th>\n      <td>2.0</td>\n      <td>Alpha - Aktuell</td>\n      <td>Aichinger 2 Alpha - Aktuell</td>\n      <td>Doppelsimulation</td>\n      <td>2021-11-24 15:12:07</td>\n      <td>latest</td>\n      <td>Aichinger</td>\n      <td>123.8</td>\n      <td>0.0</td>\n      <td>0.0</td>\n      <td>...</td>\n      <td>13.777718</td>\n      <td>0.0</td>\n      <td>40.061759</td>\n      <td>0.234899</td>\n      <td>121.154503</td>\n      <td>85.708157</td>\n      <td>97.91429</td>\n      <td>0.684</td>\n      <td>0.830531</td>\n      <td>None</td>\n    </tr>\n  </tbody>\n</table>\n<p>1 rows × 401 columns</p>\n</div>"
     },
     "execution_count": 6,
     "metadata": {},
     "output_type": "execute_result"
    }
   ],
   "source": [
    "# find a certain variation from the list\n",
    "\n",
    "df[\n",
    "    (df[\"Variantenname\"]==\"Alpha - Aktuell\") &\n",
    "    (df[\"Projekt\"]==\"Aichinger\")\n",
    "]"
   ],
   "metadata": {
    "collapsed": false,
    "pycharm": {
     "name": "#%%\n"
    }
   }
  },
  {
   "cell_type": "code",
   "execution_count": 7,
   "outputs": [],
   "source": [
    "import numpy as np\n",
    "from utils.targets import Zielwert, ZQSynergy\n",
    "\n",
    "GFZ = np.linspace(0.0, 8, 800) #min, max, steps\n",
    "PEQ_alfa = pd.DataFrame({\n",
    "    \"\":np.zeros(len(GFZ)),\n",
    "    \"Zielwert Alpha\": Zielwert.ZQSynergy().alpha(GFZ=GFZ),\n",
    "\n",
    "}, index=GFZ)\n"
   ],
   "metadata": {
    "collapsed": false,
    "pycharm": {
     "name": "#%%\n"
    }
   }
  },
  {
   "cell_type": "code",
   "execution_count": 8,
   "outputs": [
    {
     "data": {
      "text/plain": "Text(0, 0.5, 'PE-Bilanz $[{kWh/m²_{NGF}a}]$')"
     },
     "execution_count": 8,
     "metadata": {},
     "output_type": "execute_result"
    },
    {
     "data": {
      "text/plain": "<Figure size 720x432 with 1 Axes>",
      "image/png": "[encoded data removed]"
     },
     "metadata": {
      "needs_background": "light"
     },
     "output_type": "display_data"
    }
   ],
   "source": [
    "import matplotlib.pyplot as plt\n",
    "from utils.plotting import target_of_gfz\n",
    "\n",
    "fig, ax = plt.subplots(1,1, figsize=(10,6))\n",
    "target_of_gfz(ax=ax, df=PEQ_alfa)\n",
    "ax.set_ylabel(\"PE-Bilanz $[{kWh/m²_{NGF}a}]$\")\n",
    "\n"
   ],
   "metadata": {
    "collapsed": false,
    "pycharm": {
     "name": "#%%\n"
    }
   }
  },
  {
   "cell_type": "code",
   "execution_count": 9,
   "outputs": [],
   "source": [
    "df.dropna(subset=[\"Variantenname\"], inplace=True)\n",
    "df.drop(df[df.Simulation != \"Doppelsimulation\"].index, inplace=True)"
   ],
   "metadata": {
    "collapsed": false,
    "pycharm": {
     "name": "#%%\n"
    }
   }
  },
  {
   "cell_type": "code",
   "execution_count": 10,
   "outputs": [
    {
     "data": {
      "text/plain": "idx                                                                      2Mob\nVariantenname                                                 Alpha - Aktuell\nlongname                                            Glan 2Mob Alpha - Aktuell\nSimulation                                                   Doppelsimulation\nBerechnungszeitpunkt                                             44516.437882\n                                                              ...            \nPE-Saldo Ziel Real[kWh/m²BGF]                                        3.449166\nPE-Saldo Zielwert Großkraftwerke [kWh/m²NGF]                        -20.72717\ndiese zellen sind mit ergbnisverweisen befüllbar                          NaN\ndiese zellen sind mit ergbnisverweisen befüllbar                          NaN\nende result saving area                                                  None\nName: 189, Length: 401, dtype: object"
     },
     "execution_count": 10,
     "metadata": {},
     "output_type": "execute_result"
    }
   ],
   "source": [
    "df.iloc[130]"
   ],
   "metadata": {
    "collapsed": false,
    "pycharm": {
     "name": "#%%\n"
    }
   }
  },
  {
   "cell_type": "code",
   "execution_count": 11,
   "outputs": [
    {
     "data": {
      "text/plain": "         idx                      Variantenname  \\\n0        1.0         Alpha - Bauträger Standard   \n1        2.0                    Alpha - Aktuell   \n2        3.0           Alpha - Netzdienlichkeit   \n3        4.0                    Alpha - Min PEQ   \n4        5.0          Beta - Bauträger Standard   \n..       ...                                ...   \n198     9Mob         Omega - Bauträger Standard   \n199    10Mob                    Omega - Aktuell   \n200    11Mob           Omega - Netzdienlichkeit   \n201    12Mob                    Omega - Min PEQ   \n202  12,5Mob  Omega - Min PEQ - 75% Nutzerstrom   \n\n                                           longname        Simulation  \\\n0            Aichinger 1 Alpha - Bauträger Standard  Doppelsimulation   \n1                       Aichinger 2 Alpha - Aktuell  Doppelsimulation   \n2              Aichinger 3 Alpha - Netzdienlichkeit  Doppelsimulation   \n3                       Aichinger 4 Alpha - Min PEQ  Doppelsimulation   \n4             Aichinger 5 Beta - Bauträger Standard  Doppelsimulation   \n..                                              ...               ...   \n198            Glan 9Mob Omega - Bauträger Standard  Doppelsimulation   \n199                      Glan 10Mob Omega - Aktuell  Doppelsimulation   \n200             Glan 11Mob Omega - Netzdienlichkeit  Doppelsimulation   \n201                      Glan 12Mob Omega - Min PEQ  Doppelsimulation   \n202  Glan 12,5Mob Omega - Min PEQ - 75% Nutzerstrom  Doppelsimulation   \n\n    Berechnungszeitpunkt    FILE    Projekt  Wohnbau NGF (m²)  Büro NGF (m²)  \\\n0    2021-11-24 15:11:57  latest  Aichinger             123.8            0.0   \n1    2021-11-24 15:12:07  latest  Aichinger             123.8            0.0   \n2    2021-11-24 15:12:18  latest  Aichinger             123.8            0.0   \n3    2021-11-24 15:12:31  latest  Aichinger             123.8            0.0   \n4    2021-11-24 15:12:45  latest  Aichinger             123.8            0.0   \n..                   ...     ...        ...               ...            ...   \n198         44516.439213  latest       Glan           38994.0            0.0   \n199         44516.439387  latest       Glan           38994.0            0.0   \n200         44516.439525  latest       Glan           38994.0            0.0   \n201         44516.439641  latest       Glan           38994.0            0.0   \n202         44516.439769  latest       Glan           38994.0            0.0   \n\n     Schule NGF (m²)  ...  Netzstrom  Abwärme      Summe       GFZ  \\\n0                0.0  ...  17.590146      0.0  44.992788  0.234899   \n1                0.0  ...  13.777718      0.0  40.061759  0.234899   \n2                0.0  ...   6.217158      0.0  39.943547  0.234899   \n3                0.0  ...   6.236848      0.0  39.941153  0.234899   \n4                0.0  ...  18.323453      0.0  49.026591  0.234899   \n..               ...  ...        ...      ...        ...       ...   \n198              0.0  ...  36.239956      0.0  66.783866  1.046626   \n199              0.0  ...  22.198328      0.0  65.459531  1.046626   \n200              0.0  ...  11.254178      0.0  67.241300  1.046626   \n201              0.0  ...  10.296640      0.0  63.527862  1.046626   \n202              0.0  ...   6.142762      0.0  54.771039  1.046626   \n\n     PE-Saldo Zielwert [kWh/m²NGF]  PE-Saldo Ziel Real[kWh/m²BGF]  \\\n0                       121.154503                      85.708157   \n1                       121.154503                      85.708157   \n2                       121.154503                      85.708157   \n3                       121.154503                      85.708157   \n4                       121.154503                      85.708157   \n..                             ...                            ...   \n198                       5.306409                       3.449166   \n199                       5.306409                       3.449166   \n200                       5.306409                       3.449166   \n201                       5.306409                       3.449166   \n202                       5.306409                       3.449166   \n\n     PE-Saldo Zielwert Großkraftwerke [kWh/m²NGF]  \\\n0                                        97.91429   \n1                                        97.91429   \n2                                        97.91429   \n3                                        97.91429   \n4                                        97.91429   \n..                                            ...   \n198                                     -20.72717   \n199                                     -20.72717   \n200                                     -20.72717   \n201                                     -20.72717   \n202                                     -20.72717   \n\n    diese zellen sind mit ergbnisverweisen befüllbar  \\\n0                                              0.684   \n1                                              0.684   \n2                                              0.684   \n3                                              0.684   \n4                                              0.684   \n..                                               ...   \n198                                              NaN   \n199                                              NaN   \n200                                              NaN   \n201                                              NaN   \n202                                              NaN   \n\n    diese zellen sind mit ergbnisverweisen befüllbar  ende result saving area  \n0                                           0.916857                     None  \n1                                           0.830531                     None  \n2                                           0.682343                     None  \n3                                           0.682509                     None  \n4                                           0.924452                     None  \n..                                               ...                      ...  \n198                                              NaN                     None  \n199                                              NaN                     None  \n200                                              NaN                     None  \n201                                              NaN                     None  \n202                                              NaN                     None  \n\n[144 rows x 401 columns]",
      "text/html": "<div>\n<style scoped>\n    .dataframe tbody tr th:only-of-type {\n        vertical-align: middle;\n    }\n\n    .dataframe tbody tr th {\n        vertical-align: top;\n    }\n\n    .dataframe thead th {\n        text-align: right;\n    }\n</style>\n<table border=\"1\" class=\"dataframe\">\n  <thead>\n    <tr style=\"text-align: right;\">\n      <th></th>\n      <th>idx</th>\n      <th>Variantenname</th>\n      <th>longname</th>\n      <th>Simulation</th>\n      <th>Berechnungszeitpunkt</th>\n      <th>FILE</th>\n      <th>Projekt</th>\n      <th>Wohnbau NGF (m²)</th>\n      <th>Büro NGF (m²)</th>\n      <th>Schule NGF (m²)</th>\n      <th>...</th>\n      <th>Netzstrom</th>\n      <th>Abwärme</th>\n      <th>Summe</th>\n      <th>GFZ</th>\n      <th>PE-Saldo Zielwert [kWh/m²NGF]</th>\n      <th>PE-Saldo Ziel Real[kWh/m²BGF]</th>\n      <th>PE-Saldo Zielwert Großkraftwerke [kWh/m²NGF]</th>\n      <th>diese zellen sind mit ergbnisverweisen befüllbar</th>\n      <th>diese zellen sind mit ergbnisverweisen befüllbar</th>\n      <th>ende result saving area</th>\n    </tr>\n  </thead>\n  <tbody>\n    <tr>\n      <th>0</th>\n      <td>1.0</td>\n      <td>Alpha - Bauträger Standard</td>\n      <td>Aichinger 1 Alpha - Bauträger Standard</td>\n      <td>Doppelsimulation</td>\n      <td>2021-11-24 15:11:57</td>\n      <td>latest</td>\n      <td>Aichinger</td>\n      <td>123.8</td>\n      <td>0.0</td>\n      <td>0.0</td>\n      <td>...</td>\n      <td>17.590146</td>\n      <td>0.0</td>\n      <td>44.992788</td>\n      <td>0.234899</td>\n      <td>121.154503</td>\n      <td>85.708157</td>\n      <td>97.91429</td>\n      <td>0.684</td>\n      <td>0.916857</td>\n      <td>None</td>\n    </tr>\n    <tr>\n      <th>1</th>\n      <td>2.0</td>\n      <td>Alpha - Aktuell</td>\n      <td>Aichinger 2 Alpha - Aktuell</td>\n      <td>Doppelsimulation</td>\n      <td>2021-11-24 15:12:07</td>\n      <td>latest</td>\n      <td>Aichinger</td>\n      <td>123.8</td>\n      <td>0.0</td>\n      <td>0.0</td>\n      <td>...</td>\n      <td>13.777718</td>\n      <td>0.0</td>\n      <td>40.061759</td>\n      <td>0.234899</td>\n      <td>121.154503</td>\n      <td>85.708157</td>\n      <td>97.91429</td>\n      <td>0.684</td>\n      <td>0.830531</td>\n      <td>None</td>\n    </tr>\n    <tr>\n      <th>2</th>\n      <td>3.0</td>\n      <td>Alpha - Netzdienlichkeit</td>\n      <td>Aichinger 3 Alpha - Netzdienlichkeit</td>\n      <td>Doppelsimulation</td>\n      <td>2021-11-24 15:12:18</td>\n      <td>latest</td>\n      <td>Aichinger</td>\n      <td>123.8</td>\n      <td>0.0</td>\n      <td>0.0</td>\n      <td>...</td>\n      <td>6.217158</td>\n      <td>0.0</td>\n      <td>39.943547</td>\n      <td>0.234899</td>\n      <td>121.154503</td>\n      <td>85.708157</td>\n      <td>97.91429</td>\n      <td>0.684</td>\n      <td>0.682343</td>\n      <td>None</td>\n    </tr>\n    <tr>\n      <th>3</th>\n      <td>4.0</td>\n      <td>Alpha - Min PEQ</td>\n      <td>Aichinger 4 Alpha - Min PEQ</td>\n      <td>Doppelsimulation</td>\n      <td>2021-11-24 15:12:31</td>\n      <td>latest</td>\n      <td>Aichinger</td>\n      <td>123.8</td>\n      <td>0.0</td>\n      <td>0.0</td>\n      <td>...</td>\n      <td>6.236848</td>\n      <td>0.0</td>\n      <td>39.941153</td>\n      <td>0.234899</td>\n      <td>121.154503</td>\n      <td>85.708157</td>\n      <td>97.91429</td>\n      <td>0.684</td>\n      <td>0.682509</td>\n      <td>None</td>\n    </tr>\n    <tr>\n      <th>4</th>\n      <td>5.0</td>\n      <td>Beta - Bauträger Standard</td>\n      <td>Aichinger 5 Beta - Bauträger Standard</td>\n      <td>Doppelsimulation</td>\n      <td>2021-11-24 15:12:45</td>\n      <td>latest</td>\n      <td>Aichinger</td>\n      <td>123.8</td>\n      <td>0.0</td>\n      <td>0.0</td>\n      <td>...</td>\n      <td>18.323453</td>\n      <td>0.0</td>\n      <td>49.026591</td>\n      <td>0.234899</td>\n      <td>121.154503</td>\n      <td>85.708157</td>\n      <td>97.91429</td>\n      <td>0.684</td>\n      <td>0.924452</td>\n      <td>None</td>\n    </tr>\n    <tr>\n      <th>...</th>\n      <td>...</td>\n      <td>...</td>\n      <td>...</td>\n      <td>...</td>\n      <td>...</td>\n      <td>...</td>\n      <td>...</td>\n      <td>...</td>\n      <td>...</td>\n      <td>...</td>\n      <td>...</td>\n      <td>...</td>\n      <td>...</td>\n      <td>...</td>\n      <td>...</td>\n      <td>...</td>\n      <td>...</td>\n      <td>...</td>\n      <td>...</td>\n      <td>...</td>\n      <td>...</td>\n    </tr>\n    <tr>\n      <th>198</th>\n      <td>9Mob</td>\n      <td>Omega - Bauträger Standard</td>\n      <td>Glan 9Mob Omega - Bauträger Standard</td>\n      <td>Doppelsimulation</td>\n      <td>44516.439213</td>\n      <td>latest</td>\n      <td>Glan</td>\n      <td>38994.0</td>\n      <td>0.0</td>\n      <td>0.0</td>\n      <td>...</td>\n      <td>36.239956</td>\n      <td>0.0</td>\n      <td>66.783866</td>\n      <td>1.046626</td>\n      <td>5.306409</td>\n      <td>3.449166</td>\n      <td>-20.72717</td>\n      <td>NaN</td>\n      <td>NaN</td>\n      <td>None</td>\n    </tr>\n    <tr>\n      <th>199</th>\n      <td>10Mob</td>\n      <td>Omega - Aktuell</td>\n      <td>Glan 10Mob Omega - Aktuell</td>\n      <td>Doppelsimulation</td>\n      <td>44516.439387</td>\n      <td>latest</td>\n      <td>Glan</td>\n      <td>38994.0</td>\n      <td>0.0</td>\n      <td>0.0</td>\n      <td>...</td>\n      <td>22.198328</td>\n      <td>0.0</td>\n      <td>65.459531</td>\n      <td>1.046626</td>\n      <td>5.306409</td>\n      <td>3.449166</td>\n      <td>-20.72717</td>\n      <td>NaN</td>\n      <td>NaN</td>\n      <td>None</td>\n    </tr>\n    <tr>\n      <th>200</th>\n      <td>11Mob</td>\n      <td>Omega - Netzdienlichkeit</td>\n      <td>Glan 11Mob Omega - Netzdienlichkeit</td>\n      <td>Doppelsimulation</td>\n      <td>44516.439525</td>\n      <td>latest</td>\n      <td>Glan</td>\n      <td>38994.0</td>\n      <td>0.0</td>\n      <td>0.0</td>\n      <td>...</td>\n      <td>11.254178</td>\n      <td>0.0</td>\n      <td>67.241300</td>\n      <td>1.046626</td>\n      <td>5.306409</td>\n      <td>3.449166</td>\n      <td>-20.72717</td>\n      <td>NaN</td>\n      <td>NaN</td>\n      <td>None</td>\n    </tr>\n    <tr>\n      <th>201</th>\n      <td>12Mob</td>\n      <td>Omega - Min PEQ</td>\n      <td>Glan 12Mob Omega - Min PEQ</td>\n      <td>Doppelsimulation</td>\n      <td>44516.439641</td>\n      <td>latest</td>\n      <td>Glan</td>\n      <td>38994.0</td>\n      <td>0.0</td>\n      <td>0.0</td>\n      <td>...</td>\n      <td>10.296640</td>\n      <td>0.0</td>\n      <td>63.527862</td>\n      <td>1.046626</td>\n      <td>5.306409</td>\n      <td>3.449166</td>\n      <td>-20.72717</td>\n      <td>NaN</td>\n      <td>NaN</td>\n      <td>None</td>\n    </tr>\n    <tr>\n      <th>202</th>\n      <td>12,5Mob</td>\n      <td>Omega - Min PEQ - 75% Nutzerstrom</td>\n      <td>Glan 12,5Mob Omega - Min PEQ - 75% Nutzerstrom</td>\n      <td>Doppelsimulation</td>\n      <td>44516.439769</td>\n      <td>latest</td>\n      <td>Glan</td>\n      <td>38994.0</td>\n      <td>0.0</td>\n      <td>0.0</td>\n      <td>...</td>\n      <td>6.142762</td>\n      <td>0.0</td>\n      <td>54.771039</td>\n      <td>1.046626</td>\n      <td>5.306409</td>\n      <td>3.449166</td>\n      <td>-20.72717</td>\n      <td>NaN</td>\n      <td>NaN</td>\n      <td>None</td>\n    </tr>\n  </tbody>\n</table>\n<p>144 rows × 401 columns</p>\n</div>"
     },
     "execution_count": 11,
     "metadata": {},
     "output_type": "execute_result"
    }
   ],
   "source": [
    "cols = {\n",
    "\"Alpha - Bauträger Standard\": 1.0,\n",
    "\"Alpha - Aktuell\": 2.0,\n",
    "\"Alpha - Netzdienlichkeit\": 3.0,\n",
    "\"Alpha - Min PEQ\": 4.0,\n",
    "\"Alpha - Min PEQ - Nutzerstrom 75%\": 4.5,\n",
    "\"Beta - Bauträger Standard\": 5.0,\n",
    "\"Beta - Aktuell\": 6.0,\n",
    "\"Beta - Netzdienlichkeit\": 7.0,\n",
    "\"Beta - Min PEQ\": 8.0,\n",
    "\"Beta - Min PEQ - Nutzerstrom 75%\": 8.5,\n",
    "\"Omega - Bauträger Standard\": 9.0,\n",
    "\"Omega - Aktuell\": 10.0,\n",
    "\"Omega - Netzdienlichkeit\": 11.0,\n",
    "\"Omega - Min PEQ\": 12.0,\n",
    "\"Omega - Min PEQ - Nutzerstrom 75%\": 12.5,\n",
    "}\n",
    "\n",
    "new_df = df[\n",
    "    (df.FILE != \"None\")\n",
    "]\n",
    "\n",
    "df = new_df\n",
    "new_df"
   ],
   "metadata": {
    "collapsed": false,
    "pycharm": {
     "name": "#%%\n"
    }
   }
  },
  {
   "cell_type": "code",
   "execution_count": 12,
   "outputs": [
    {
     "data": {
      "text/plain": "   idx              Variantenname                               longname  \\\n4  5.0  Beta - Bauträger Standard  Aichinger 5 Beta - Bauträger Standard   \n\n         Simulation Berechnungszeitpunkt    FILE    Projekt  Wohnbau NGF (m²)  \\\n4  Doppelsimulation  2021-11-24 15:12:45  latest  Aichinger             123.8   \n\n   Büro NGF (m²)  Schule NGF (m²)  ...  Netzstrom  Abwärme      Summe  \\\n4            0.0              0.0  ...  18.323453      0.0  49.026591   \n\n        GFZ  PE-Saldo Zielwert [kWh/m²NGF]  PE-Saldo Ziel Real[kWh/m²BGF]  \\\n4  0.234899                     121.154503                      85.708157   \n\n   PE-Saldo Zielwert Großkraftwerke [kWh/m²NGF]  \\\n4                                      97.91429   \n\n  diese zellen sind mit ergbnisverweisen befüllbar  \\\n4                                            0.684   \n\n  diese zellen sind mit ergbnisverweisen befüllbar  ende result saving area  \n4                                         0.924452                     None  \n\n[1 rows x 401 columns]",
      "text/html": "<div>\n<style scoped>\n    .dataframe tbody tr th:only-of-type {\n        vertical-align: middle;\n    }\n\n    .dataframe tbody tr th {\n        vertical-align: top;\n    }\n\n    .dataframe thead th {\n        text-align: right;\n    }\n</style>\n<table border=\"1\" class=\"dataframe\">\n  <thead>\n    <tr style=\"text-align: right;\">\n      <th></th>\n      <th>idx</th>\n      <th>Variantenname</th>\n      <th>longname</th>\n      <th>Simulation</th>\n      <th>Berechnungszeitpunkt</th>\n      <th>FILE</th>\n      <th>Projekt</th>\n      <th>Wohnbau NGF (m²)</th>\n      <th>Büro NGF (m²)</th>\n      <th>Schule NGF (m²)</th>\n      <th>...</th>\n      <th>Netzstrom</th>\n      <th>Abwärme</th>\n      <th>Summe</th>\n      <th>GFZ</th>\n      <th>PE-Saldo Zielwert [kWh/m²NGF]</th>\n      <th>PE-Saldo Ziel Real[kWh/m²BGF]</th>\n      <th>PE-Saldo Zielwert Großkraftwerke [kWh/m²NGF]</th>\n      <th>diese zellen sind mit ergbnisverweisen befüllbar</th>\n      <th>diese zellen sind mit ergbnisverweisen befüllbar</th>\n      <th>ende result saving area</th>\n    </tr>\n  </thead>\n  <tbody>\n    <tr>\n      <th>4</th>\n      <td>5.0</td>\n      <td>Beta - Bauträger Standard</td>\n      <td>Aichinger 5 Beta - Bauträger Standard</td>\n      <td>Doppelsimulation</td>\n      <td>2021-11-24 15:12:45</td>\n      <td>latest</td>\n      <td>Aichinger</td>\n      <td>123.8</td>\n      <td>0.0</td>\n      <td>0.0</td>\n      <td>...</td>\n      <td>18.323453</td>\n      <td>0.0</td>\n      <td>49.026591</td>\n      <td>0.234899</td>\n      <td>121.154503</td>\n      <td>85.708157</td>\n      <td>97.91429</td>\n      <td>0.684</td>\n      <td>0.924452</td>\n      <td>None</td>\n    </tr>\n  </tbody>\n</table>\n<p>1 rows × 401 columns</p>\n</div>"
     },
     "execution_count": 12,
     "metadata": {},
     "output_type": "execute_result"
    }
   ],
   "source": [
    "dsm_df = new_df[\n",
    "    (new_df.index.isin([4.0,4.5]))\n",
    "]\n",
    "dsm_df\n"
   ],
   "metadata": {
    "collapsed": false,
    "pycharm": {
     "name": "#%%\n"
    }
   }
  },
  {
   "cell_type": "code",
   "source": [
    "# get variants\n",
    "# s2 = aggbook.sheets[4]\n",
    "# local_addr = s2[\"M5\"].formula.split(\"!\")[1]\n",
    "# aggsheet = aggbook.sheets[aggregation_sheet]\n",
    "# new_df.columns[aggsheet[local_addr].column-2]"
   ],
   "metadata": {
    "collapsed": false,
    "pycharm": {
     "name": "#%%\n"
    }
   },
   "execution_count": 13,
   "outputs": []
  },
  {
   "cell_type": "markdown",
   "source": [
    "we commonly need to transform the df into a flat version,\n",
    " with an additional column *calc_type*:\n",
    " * Erdgas,\n",
    " * FW,\n",
    " * HP /wo DSM,\n",
    " * HP /w DSM\n"
   ],
   "metadata": {
    "collapsed": false,
    "pycharm": {
     "name": "#%% md\n"
    }
   }
  },
  {
   "cell_type": "code",
   "execution_count": 14,
   "outputs": [
    {
     "data": {
      "text/plain": "          GFZ  PE-Saldo Zielwert [kWh/m²NGF]  PE-Saldo Ziel Real[kWh/m²BGF]  \\\n0    0.234899                     121.154503                      85.708157   \n1    0.234899                     121.154503                      85.708157   \n2    0.234899                     121.154503                      85.708157   \n3    0.234899                     121.154503                      85.708157   \n4    0.234899                     121.154503                      85.708157   \n..        ...                            ...                            ...   \n233       NaN                            NaN                            NaN   \n234       NaN                            NaN                            NaN   \n235  0.500000                      61.874472                      43.771769   \n236  0.500000                      61.874472                      43.771769   \n237       NaN                            NaN                            NaN   \n\n      idx                               Variantenname  \\\n0     1.0                  Alpha - Bauträger Standard   \n1     2.0                             Alpha - Aktuell   \n2     3.0                    Alpha - Netzdienlichkeit   \n3     4.0                             Alpha - Min PEQ   \n4     5.0                   Beta - Bauträger Standard   \n..    ...                                         ...   \n233  None                                        None   \n234  None                                        None   \n235  None  Aichinger GFZ 0,5 Alpha - Netzdienlichkeit   \n236  None   Aichinger GFZ 0,5 Beta - Netzdienlichkeit   \n237  None                                        None   \n\n                                       longname        Simulation  \\\n0        Aichinger 1 Alpha - Bauträger Standard  Doppelsimulation   \n1                   Aichinger 2 Alpha - Aktuell  Doppelsimulation   \n2          Aichinger 3 Alpha - Netzdienlichkeit  Doppelsimulation   \n3                   Aichinger 4 Alpha - Min PEQ  Doppelsimulation   \n4         Aichinger 5 Beta - Bauträger Standard  Doppelsimulation   \n..                                          ...               ...   \n233                                        None              None   \n234                                        None              None   \n235  Aichinger GFZ 0,5 Alpha - Netzdienlichkeit              None   \n236   Aichinger GFZ 0,5 Beta - Netzdienlichkeit              None   \n237                                        None              None   \n\n    Berechnungszeitpunkt    FILE    Projekt  ...   NaN   NaN   NaN   NaN  \\\n0    2021-11-24 15:11:57  latest  Aichinger  ...  None  None  None  None   \n1    2021-11-24 15:12:07  latest  Aichinger  ...  None  None  None  None   \n2    2021-11-24 15:12:18  latest  Aichinger  ...  None  None  None  None   \n3    2021-11-24 15:12:31  latest  Aichinger  ...  None  None  None  None   \n4    2021-11-24 15:12:45  latest  Aichinger  ...  None  None  None  None   \n..                   ...     ...        ...  ...   ...   ...   ...   ...   \n233                 None    None       None  ...  None  None  None  None   \n234                 None    None       None  ...  None  None  None  None   \n235                 None    None  Aichinger  ...  None  None  None  None   \n236                 None    None  Aichinger  ...  None  None  None  None   \n237                 None    None       None  ...  None  None  None  None   \n\n      NaN   NaN   NaN  dont fill, extend instead   NaN   NaN  \n0    None  None  None                       None  None  None  \n1    None  None  None                       None  None  None  \n2    None  None  None                       None  None  None  \n3    None  None  None                       None  None  None  \n4    None  None  None                       None  None  None  \n..    ...   ...   ...                        ...   ...   ...  \n233  None  None  None                       None  None  None  \n234  None  None  None                       None  None  None  \n235  None  None  None                       None  None  None  \n236  None  None  None                       None  None  None  \n237  None  None  None                       None  None  None  \n\n[238 rows x 207 columns]",
      "text/html": "<div>\n<style scoped>\n    .dataframe tbody tr th:only-of-type {\n        vertical-align: middle;\n    }\n\n    .dataframe tbody tr th {\n        vertical-align: top;\n    }\n\n    .dataframe thead th {\n        text-align: right;\n    }\n</style>\n<table border=\"1\" class=\"dataframe\">\n  <thead>\n    <tr style=\"text-align: right;\">\n      <th></th>\n      <th>GFZ</th>\n      <th>PE-Saldo Zielwert [kWh/m²NGF]</th>\n      <th>PE-Saldo Ziel Real[kWh/m²BGF]</th>\n      <th>idx</th>\n      <th>Variantenname</th>\n      <th>longname</th>\n      <th>Simulation</th>\n      <th>Berechnungszeitpunkt</th>\n      <th>FILE</th>\n      <th>Projekt</th>\n      <th>...</th>\n      <th>NaN</th>\n      <th>NaN</th>\n      <th>NaN</th>\n      <th>NaN</th>\n      <th>NaN</th>\n      <th>NaN</th>\n      <th>NaN</th>\n      <th>dont fill, extend instead</th>\n      <th>NaN</th>\n      <th>NaN</th>\n    </tr>\n  </thead>\n  <tbody>\n    <tr>\n      <th>0</th>\n      <td>0.234899</td>\n      <td>121.154503</td>\n      <td>85.708157</td>\n      <td>1.0</td>\n      <td>Alpha - Bauträger Standard</td>\n      <td>Aichinger 1 Alpha - Bauträger Standard</td>\n      <td>Doppelsimulation</td>\n      <td>2021-11-24 15:11:57</td>\n      <td>latest</td>\n      <td>Aichinger</td>\n      <td>...</td>\n      <td>None</td>\n      <td>None</td>\n      <td>None</td>\n      <td>None</td>\n      <td>None</td>\n      <td>None</td>\n      <td>None</td>\n      <td>None</td>\n      <td>None</td>\n      <td>None</td>\n    </tr>\n    <tr>\n      <th>1</th>\n      <td>0.234899</td>\n      <td>121.154503</td>\n      <td>85.708157</td>\n      <td>2.0</td>\n      <td>Alpha - Aktuell</td>\n      <td>Aichinger 2 Alpha - Aktuell</td>\n      <td>Doppelsimulation</td>\n      <td>2021-11-24 15:12:07</td>\n      <td>latest</td>\n      <td>Aichinger</td>\n      <td>...</td>\n      <td>None</td>\n      <td>None</td>\n      <td>None</td>\n      <td>None</td>\n      <td>None</td>\n      <td>None</td>\n      <td>None</td>\n      <td>None</td>\n      <td>None</td>\n      <td>None</td>\n    </tr>\n    <tr>\n      <th>2</th>\n      <td>0.234899</td>\n      <td>121.154503</td>\n      <td>85.708157</td>\n      <td>3.0</td>\n      <td>Alpha - Netzdienlichkeit</td>\n      <td>Aichinger 3 Alpha - Netzdienlichkeit</td>\n      <td>Doppelsimulation</td>\n      <td>2021-11-24 15:12:18</td>\n      <td>latest</td>\n      <td>Aichinger</td>\n      <td>...</td>\n      <td>None</td>\n      <td>None</td>\n      <td>None</td>\n      <td>None</td>\n      <td>None</td>\n      <td>None</td>\n      <td>None</td>\n      <td>None</td>\n      <td>None</td>\n      <td>None</td>\n    </tr>\n    <tr>\n      <th>3</th>\n      <td>0.234899</td>\n      <td>121.154503</td>\n      <td>85.708157</td>\n      <td>4.0</td>\n      <td>Alpha - Min PEQ</td>\n      <td>Aichinger 4 Alpha - Min PEQ</td>\n      <td>Doppelsimulation</td>\n      <td>2021-11-24 15:12:31</td>\n      <td>latest</td>\n      <td>Aichinger</td>\n      <td>...</td>\n      <td>None</td>\n      <td>None</td>\n      <td>None</td>\n      <td>None</td>\n      <td>None</td>\n      <td>None</td>\n      <td>None</td>\n      <td>None</td>\n      <td>None</td>\n      <td>None</td>\n    </tr>\n    <tr>\n      <th>4</th>\n      <td>0.234899</td>\n      <td>121.154503</td>\n      <td>85.708157</td>\n      <td>5.0</td>\n      <td>Beta - Bauträger Standard</td>\n      <td>Aichinger 5 Beta - Bauträger Standard</td>\n      <td>Doppelsimulation</td>\n      <td>2021-11-24 15:12:45</td>\n      <td>latest</td>\n      <td>Aichinger</td>\n      <td>...</td>\n      <td>None</td>\n      <td>None</td>\n      <td>None</td>\n      <td>None</td>\n      <td>None</td>\n      <td>None</td>\n      <td>None</td>\n      <td>None</td>\n      <td>None</td>\n      <td>None</td>\n    </tr>\n    <tr>\n      <th>...</th>\n      <td>...</td>\n      <td>...</td>\n      <td>...</td>\n      <td>...</td>\n      <td>...</td>\n      <td>...</td>\n      <td>...</td>\n      <td>...</td>\n      <td>...</td>\n      <td>...</td>\n      <td>...</td>\n      <td>...</td>\n      <td>...</td>\n      <td>...</td>\n      <td>...</td>\n      <td>...</td>\n      <td>...</td>\n      <td>...</td>\n      <td>...</td>\n      <td>...</td>\n      <td>...</td>\n    </tr>\n    <tr>\n      <th>233</th>\n      <td>NaN</td>\n      <td>NaN</td>\n      <td>NaN</td>\n      <td>None</td>\n      <td>None</td>\n      <td>None</td>\n      <td>None</td>\n      <td>None</td>\n      <td>None</td>\n      <td>None</td>\n      <td>...</td>\n      <td>None</td>\n      <td>None</td>\n      <td>None</td>\n      <td>None</td>\n      <td>None</td>\n      <td>None</td>\n      <td>None</td>\n      <td>None</td>\n      <td>None</td>\n      <td>None</td>\n    </tr>\n    <tr>\n      <th>234</th>\n      <td>NaN</td>\n      <td>NaN</td>\n      <td>NaN</td>\n      <td>None</td>\n      <td>None</td>\n      <td>None</td>\n      <td>None</td>\n      <td>None</td>\n      <td>None</td>\n      <td>None</td>\n      <td>...</td>\n      <td>None</td>\n      <td>None</td>\n      <td>None</td>\n      <td>None</td>\n      <td>None</td>\n      <td>None</td>\n      <td>None</td>\n      <td>None</td>\n      <td>None</td>\n      <td>None</td>\n    </tr>\n    <tr>\n      <th>235</th>\n      <td>0.500000</td>\n      <td>61.874472</td>\n      <td>43.771769</td>\n      <td>None</td>\n      <td>Aichinger GFZ 0,5 Alpha - Netzdienlichkeit</td>\n      <td>Aichinger GFZ 0,5 Alpha - Netzdienlichkeit</td>\n      <td>None</td>\n      <td>None</td>\n      <td>None</td>\n      <td>Aichinger</td>\n      <td>...</td>\n      <td>None</td>\n      <td>None</td>\n      <td>None</td>\n      <td>None</td>\n      <td>None</td>\n      <td>None</td>\n      <td>None</td>\n      <td>None</td>\n      <td>None</td>\n      <td>None</td>\n    </tr>\n    <tr>\n      <th>236</th>\n      <td>0.500000</td>\n      <td>61.874472</td>\n      <td>43.771769</td>\n      <td>None</td>\n      <td>Aichinger GFZ 0,5 Beta - Netzdienlichkeit</td>\n      <td>Aichinger GFZ 0,5 Beta - Netzdienlichkeit</td>\n      <td>None</td>\n      <td>None</td>\n      <td>None</td>\n      <td>Aichinger</td>\n      <td>...</td>\n      <td>None</td>\n      <td>None</td>\n      <td>None</td>\n      <td>None</td>\n      <td>None</td>\n      <td>None</td>\n      <td>None</td>\n      <td>None</td>\n      <td>None</td>\n      <td>None</td>\n    </tr>\n    <tr>\n      <th>237</th>\n      <td>NaN</td>\n      <td>NaN</td>\n      <td>NaN</td>\n      <td>None</td>\n      <td>None</td>\n      <td>None</td>\n      <td>None</td>\n      <td>None</td>\n      <td>None</td>\n      <td>None</td>\n      <td>...</td>\n      <td>None</td>\n      <td>None</td>\n      <td>None</td>\n      <td>None</td>\n      <td>None</td>\n      <td>None</td>\n      <td>None</td>\n      <td>None</td>\n      <td>None</td>\n      <td>None</td>\n    </tr>\n  </tbody>\n</table>\n<p>238 rows × 207 columns</p>\n</div>"
     },
     "execution_count": 14,
     "metadata": {},
     "output_type": "execute_result"
    }
   ],
   "source": [
    "first, last = 2, 241# row\n",
    "# df_inputs\n",
    "vars = aggbook.sheets[aggregation_sheet]\n",
    "range = vars[first:last, :204]\n",
    "df_inputslarge = range.options(pd.DataFrame, index=False).value\n",
    "df_gfzblock = vars[first:last, 394:397].options(pd.DataFrame, index=False).value\n",
    "#joining GFZ shit\n",
    "df_inputs = df_gfzblock.join(df_inputslarge)\n",
    "df_inputs"
   ],
   "metadata": {
    "collapsed": false,
    "pycharm": {
     "name": "#%%\n"
    }
   }
  },
  {
   "cell_type": "code",
   "execution_count": 15,
   "outputs": [],
   "source": [
    "# df_gas\n",
    "range = vars[first:last, 204:224]\n",
    "df_gas = range.options(pd.DataFrame, index=False).value\n",
    "df_gas[\"energy_system\"] = \"Erdgas\"\n",
    "# df_distheat\n",
    "range = vars[first:last, 224:244]\n",
    "df_distheat = range.options(pd.DataFrame, index=False).value\n",
    "df_distheat[\"energy_system\"] = \"Fernwärme\"\n",
    "# df_HPwoDSM\n",
    "range = vars[first:last, 244:264]\n",
    "df_HPwoDSM = range.options(pd.DataFrame, index=False).value\n",
    "df_HPwoDSM[\"energy_system\"] = \"Wärmepumpe (OHNE DSM)\"\n",
    "# df_HPwDSM\n",
    "range = vars[first:last, 308:328]\n",
    "df_HPwDSM = range.options(pd.DataFrame, index=False).value\n",
    "df_HPwDSM[\"energy_system\"] = \"Wärmepumpe (mit DSM)\""
   ],
   "metadata": {
    "collapsed": false,
    "pycharm": {
     "name": "#%%\n"
    }
   }
  },
  {
   "cell_type": "code",
   "execution_count": 16,
   "outputs": [
    {
     "data": {
      "text/plain": "(238, 228)"
     },
     "execution_count": 16,
     "metadata": {},
     "output_type": "execute_result"
    }
   ],
   "source": [
    "# concatenate all dfs\n",
    "i = np.arange(132)\n",
    "df1 = pd.concat([df_gas, df_inputs], axis=1)#.set_index([i,i]).reset_index(level=0)\n",
    "i2 = i+132\n",
    "df2 = pd.concat([df_distheat, df_inputs], axis=1)#.set_index([i,i2]).reset_index(level=0)\n",
    "i3 = i2+132\n",
    "df3 = pd.concat([df_HPwoDSM, df_inputs], axis=1)#.set_index([i,i3]).reset_index(level=0)\n",
    "i4 = i3+132\n",
    "df4 = pd.concat([df_HPwDSM, df_inputs ], axis=1)#\\\n",
    " #   .set_index([i,i4], drop=True)\\\n",
    "#    .reset_index(level=0)\n",
    "\n",
    "df4.shape"
   ],
   "metadata": {
    "collapsed": false,
    "pycharm": {
     "name": "#%%\n"
    }
   }
  },
  {
   "cell_type": "code",
   "execution_count": 17,
   "outputs": [],
   "source": [
    "from enum import Enum, auto\n",
    "# vars[\"K2\"].value\n",
    "class EnerSys(Enum):\n",
    "    gas = auto()\n",
    "    dh = auto()\n",
    "    hp_wo_dsm = auto()\n",
    "    hp_w_dsm = auto()"
   ],
   "metadata": {
    "collapsed": false,
    "pycharm": {
     "name": "#%%\n"
    }
   }
  },
  {
   "cell_type": "code",
   "execution_count": 18,
   "outputs": [
    {
     "name": "stdout",
     "output_type": "stream",
     "text": [
      "EnerSys.gas\n",
      "EnerSys.dh\n",
      "EnerSys.hp_wo_dsm\n",
      "EnerSys.hp_w_dsm\n"
     ]
    }
   ],
   "source": [
    "for n in EnerSys:\n",
    "    print(n)"
   ],
   "metadata": {
    "collapsed": false,
    "pycharm": {
     "name": "#%%\n"
    }
   }
  },
  {
   "cell_type": "code",
   "execution_count": 19,
   "outputs": [],
   "source": [
    "\n",
    "result_map_NGF = {\n",
    "    EnerSys.gas: {\n",
    "        \"PEBedarf\": {\"abc\": \"GW\", \"num\":204},\n",
    "        \"PEExport\": {\"abc\": \"GX\", \"num\":205},\n",
    "        \"PESaldo\": {\"abc\": \"GY\", \"num\":206},\n",
    "        \"Alpha - Dichteausgleich [kWh/m²NGF]\": {\n",
    "            \"abc\": \"HA\", \"num\":208},\n",
    "    },\n",
    "    EnerSys.dh: {\n",
    "        \"PEBedarf\": {\"abc\": \"HQ\", \"num\":224},\n",
    "        \"PEExport\": {\"abc\": \"HR\", \"num\":225},\n",
    "        \"PESaldo\": {\"abc\": \"HS\", \"num\":226},\n",
    "        \"Alpha - Dichteausgleich [kWh/m²NGF]\": {\n",
    "            \"abc\": \"HU\", \"num\":228},\n",
    "    },\n",
    "    EnerSys.hp_wo_dsm: {\n",
    "        \"PEBedarf\": {\"abc\": \"IK\", \"num\":244},\n",
    "        \"PEExport\": {\"abc\": \"IL\", \"num\":245},\n",
    "        \"PESaldo\": {\"abc\": \"IM\", \"num\":246},\n",
    "        \"Alpha - Dichteausgleich [kWh/m²NGF]\": {\n",
    "            \"abc\": \"IO\", \"num\":248},\n",
    "    },\n",
    "    EnerSys.hp_w_dsm: {\n",
    "        \"PEBedarf\": {\"abc\": \"KW\", \"num\":308},\n",
    "        \"PEExport\": {\"abc\": \"KX\", \"num\":309},\n",
    "        \"PESaldo\": {\"abc\": \"KY\", \"num\":310},\n",
    "        \"Alpha - Dichteausgleich [kWh/m²NGF]\": {\n",
    "            \"abc\": \"LA\", \"num\":312},\n",
    "    }\n",
    "}\n"
   ],
   "metadata": {
    "collapsed": false,
    "pycharm": {
     "name": "#%%\n"
    }
   }
  },
  {
   "cell_type": "code",
   "execution_count": 20,
   "outputs": [],
   "source": [
    "def address(system:EnerSys, index, col:str, row_offset=3, mapping=result_map_NGF):\n",
    "    addr = mapping[system][col][\"abc\"]\n",
    "    return addr+str(index+row_offset)\n"
   ],
   "metadata": {
    "collapsed": false,
    "pycharm": {
     "name": "#%%\n"
    }
   }
  },
  {
   "cell_type": "code",
   "execution_count": 21,
   "outputs": [
    {
     "data": {
      "text/plain": "'PEBedarf'"
     },
     "execution_count": 21,
     "metadata": {},
     "output_type": "execute_result"
    }
   ],
   "source": [
    "aggsheet = vars\n",
    "a1 = address(EnerSys.hp_wo_dsm, 0, \"PEBedarf\")\n",
    "aggsheet[a1].value"
   ],
   "metadata": {
    "collapsed": false,
    "pycharm": {
     "name": "#%%\n"
    }
   }
  },
  {
   "cell_type": "code",
   "execution_count": 22,
   "outputs": [
    {
     "data": {
      "text/plain": "      PEBedarf    PEExport     PESaldo  \\\n0   -96.172054   88.459705   -7.712349   \n1   -67.563892  119.696343   52.132450   \n2   -64.866111  156.221696   91.355585   \n3   -64.961369  147.942374   82.981005   \n4   -99.970927   86.275555  -13.695372   \n..         ...         ...         ...   \n233        NaN         NaN         NaN   \n234        NaN         NaN         NaN   \n235 -64.542486  189.889012  125.346526   \n236 -70.432301  185.880783  115.448482   \n237        NaN         NaN         NaN   \n\n     Alpha - PE-Saldo ohne Dichteausgleich [kWh/m²NGF]  \\\n0                                            -7.712349   \n1                                            52.132450   \n2                                            91.355585   \n3                                            82.981005   \n4                                           -13.695372   \n..                                                 ...   \n233                                                NaN   \n234                                                NaN   \n235                                         125.346526   \n236                                         115.448482   \n237                                                NaN   \n\n     Alpha - Dichteausgleich [kWh/m²NGF]  \\\n0                            -121.154503   \n1                            -121.154503   \n2                            -121.154503   \n3                            -121.154503   \n4                            -121.154503   \n..                                   ...   \n233                                  NaN   \n234                                  NaN   \n235                           -61.874472   \n236                           -61.874472   \n237                                  NaN   \n\n     Alpha - PE-Saldo mit Dichteausgleich [kWh/m²NGF]  \\\n0                                         -128.866852   \n1                                          -69.022053   \n2                                          -29.798918   \n3                                          -38.173498   \n4                                         -134.849875   \n..                                                ...   \n233                                               NaN   \n234                                               NaN   \n235                                         63.472055   \n236                                         53.574010   \n237                                               NaN   \n\n     Alpha -PE-Saldo mit Dichteausgleich [kWh/m²BGF]  \\\n0                                         -91.164093   \n1                                         -48.828172   \n2                                         -21.080606   \n3                                         -27.005023   \n4                                         -95.396654   \n..                                               ...   \n233                                              NaN   \n234                                              NaN   \n235                                        44.901945   \n236                                        37.899785   \n237                                              NaN   \n\n     Kontext-Faktor Erneuerbare Großkraftwerte [kWh/m²NGF]  \\\n0                                           -23.240213       \n1                                           -23.240213       \n2                                           -23.240213       \n3                                           -23.240213       \n4                                           -23.240213       \n..                                                 ...       \n233                                                NaN       \n234                                                NaN       \n235                                         -23.240213       \n236                                         -23.240213       \n237                                                NaN       \n\n     Fossile Alltagsmobilität[kWh/m²NGF]  PE-Bilanz Beta [kWh/m²NGF]  ...  \\\n0                             -45.737471                 -151.364110  ...   \n1                             -39.253797                  -85.035636  ...   \n2                             -32.770123                  -39.328828  ...   \n3                             -32.770123                  -47.703407  ...   \n4                             -45.737471                 -157.347133  ...   \n..                                   ...                         ...  ...   \n233                                  NaN                         NaN  ...   \n234                                  NaN                         NaN  ...   \n235                           -32.770123                   53.942145  ...   \n236                           -32.770123                   44.044100  ...   \n237                                  NaN                         NaN  ...   \n\n      NaN   NaN   NaN   NaN   NaN   NaN   NaN  dont fill, extend instead  \\\n0    None  None  None  None  None  None  None                       None   \n1    None  None  None  None  None  None  None                       None   \n2    None  None  None  None  None  None  None                       None   \n3    None  None  None  None  None  None  None                       None   \n4    None  None  None  None  None  None  None                       None   \n..    ...   ...   ...   ...   ...   ...   ...                        ...   \n233  None  None  None  None  None  None  None                       None   \n234  None  None  None  None  None  None  None                       None   \n235  None  None  None  None  None  None  None                       None   \n236  None  None  None  None  None  None  None                       None   \n237  None  None  None  None  None  None  None                       None   \n\n      NaN   NaN  \n0    None  None  \n1    None  None  \n2    None  None  \n3    None  None  \n4    None  None  \n..    ...   ...  \n233  None  None  \n234  None  None  \n235  None  None  \n236  None  None  \n237  None  None  \n\n[238 rows x 228 columns]",
      "text/html": "<div>\n<style scoped>\n    .dataframe tbody tr th:only-of-type {\n        vertical-align: middle;\n    }\n\n    .dataframe tbody tr th {\n        vertical-align: top;\n    }\n\n    .dataframe thead th {\n        text-align: right;\n    }\n</style>\n<table border=\"1\" class=\"dataframe\">\n  <thead>\n    <tr style=\"text-align: right;\">\n      <th></th>\n      <th>PEBedarf</th>\n      <th>PEExport</th>\n      <th>PESaldo</th>\n      <th>Alpha - PE-Saldo ohne Dichteausgleich [kWh/m²NGF]</th>\n      <th>Alpha - Dichteausgleich [kWh/m²NGF]</th>\n      <th>Alpha - PE-Saldo mit Dichteausgleich [kWh/m²NGF]</th>\n      <th>Alpha -PE-Saldo mit Dichteausgleich [kWh/m²BGF]</th>\n      <th>Kontext-Faktor Erneuerbare Großkraftwerte [kWh/m²NGF]</th>\n      <th>Fossile Alltagsmobilität[kWh/m²NGF]</th>\n      <th>PE-Bilanz Beta [kWh/m²NGF]</th>\n      <th>...</th>\n      <th>NaN</th>\n      <th>NaN</th>\n      <th>NaN</th>\n      <th>NaN</th>\n      <th>NaN</th>\n      <th>NaN</th>\n      <th>NaN</th>\n      <th>dont fill, extend instead</th>\n      <th>NaN</th>\n      <th>NaN</th>\n    </tr>\n  </thead>\n  <tbody>\n    <tr>\n      <th>0</th>\n      <td>-96.172054</td>\n      <td>88.459705</td>\n      <td>-7.712349</td>\n      <td>-7.712349</td>\n      <td>-121.154503</td>\n      <td>-128.866852</td>\n      <td>-91.164093</td>\n      <td>-23.240213</td>\n      <td>-45.737471</td>\n      <td>-151.364110</td>\n      <td>...</td>\n      <td>None</td>\n      <td>None</td>\n      <td>None</td>\n      <td>None</td>\n      <td>None</td>\n      <td>None</td>\n      <td>None</td>\n      <td>None</td>\n      <td>None</td>\n      <td>None</td>\n    </tr>\n    <tr>\n      <th>1</th>\n      <td>-67.563892</td>\n      <td>119.696343</td>\n      <td>52.132450</td>\n      <td>52.132450</td>\n      <td>-121.154503</td>\n      <td>-69.022053</td>\n      <td>-48.828172</td>\n      <td>-23.240213</td>\n      <td>-39.253797</td>\n      <td>-85.035636</td>\n      <td>...</td>\n      <td>None</td>\n      <td>None</td>\n      <td>None</td>\n      <td>None</td>\n      <td>None</td>\n      <td>None</td>\n      <td>None</td>\n      <td>None</td>\n      <td>None</td>\n      <td>None</td>\n    </tr>\n    <tr>\n      <th>2</th>\n      <td>-64.866111</td>\n      <td>156.221696</td>\n      <td>91.355585</td>\n      <td>91.355585</td>\n      <td>-121.154503</td>\n      <td>-29.798918</td>\n      <td>-21.080606</td>\n      <td>-23.240213</td>\n      <td>-32.770123</td>\n      <td>-39.328828</td>\n      <td>...</td>\n      <td>None</td>\n      <td>None</td>\n      <td>None</td>\n      <td>None</td>\n      <td>None</td>\n      <td>None</td>\n      <td>None</td>\n      <td>None</td>\n      <td>None</td>\n      <td>None</td>\n    </tr>\n    <tr>\n      <th>3</th>\n      <td>-64.961369</td>\n      <td>147.942374</td>\n      <td>82.981005</td>\n      <td>82.981005</td>\n      <td>-121.154503</td>\n      <td>-38.173498</td>\n      <td>-27.005023</td>\n      <td>-23.240213</td>\n      <td>-32.770123</td>\n      <td>-47.703407</td>\n      <td>...</td>\n      <td>None</td>\n      <td>None</td>\n      <td>None</td>\n      <td>None</td>\n      <td>None</td>\n      <td>None</td>\n      <td>None</td>\n      <td>None</td>\n      <td>None</td>\n      <td>None</td>\n    </tr>\n    <tr>\n      <th>4</th>\n      <td>-99.970927</td>\n      <td>86.275555</td>\n      <td>-13.695372</td>\n      <td>-13.695372</td>\n      <td>-121.154503</td>\n      <td>-134.849875</td>\n      <td>-95.396654</td>\n      <td>-23.240213</td>\n      <td>-45.737471</td>\n      <td>-157.347133</td>\n      <td>...</td>\n      <td>None</td>\n      <td>None</td>\n      <td>None</td>\n      <td>None</td>\n      <td>None</td>\n      <td>None</td>\n      <td>None</td>\n      <td>None</td>\n      <td>None</td>\n      <td>None</td>\n    </tr>\n    <tr>\n      <th>...</th>\n      <td>...</td>\n      <td>...</td>\n      <td>...</td>\n      <td>...</td>\n      <td>...</td>\n      <td>...</td>\n      <td>...</td>\n      <td>...</td>\n      <td>...</td>\n      <td>...</td>\n      <td>...</td>\n      <td>...</td>\n      <td>...</td>\n      <td>...</td>\n      <td>...</td>\n      <td>...</td>\n      <td>...</td>\n      <td>...</td>\n      <td>...</td>\n      <td>...</td>\n      <td>...</td>\n    </tr>\n    <tr>\n      <th>233</th>\n      <td>NaN</td>\n      <td>NaN</td>\n      <td>NaN</td>\n      <td>NaN</td>\n      <td>NaN</td>\n      <td>NaN</td>\n      <td>NaN</td>\n      <td>NaN</td>\n      <td>NaN</td>\n      <td>NaN</td>\n      <td>...</td>\n      <td>None</td>\n      <td>None</td>\n      <td>None</td>\n      <td>None</td>\n      <td>None</td>\n      <td>None</td>\n      <td>None</td>\n      <td>None</td>\n      <td>None</td>\n      <td>None</td>\n    </tr>\n    <tr>\n      <th>234</th>\n      <td>NaN</td>\n      <td>NaN</td>\n      <td>NaN</td>\n      <td>NaN</td>\n      <td>NaN</td>\n      <td>NaN</td>\n      <td>NaN</td>\n      <td>NaN</td>\n      <td>NaN</td>\n      <td>NaN</td>\n      <td>...</td>\n      <td>None</td>\n      <td>None</td>\n      <td>None</td>\n      <td>None</td>\n      <td>None</td>\n      <td>None</td>\n      <td>None</td>\n      <td>None</td>\n      <td>None</td>\n      <td>None</td>\n    </tr>\n    <tr>\n      <th>235</th>\n      <td>-64.542486</td>\n      <td>189.889012</td>\n      <td>125.346526</td>\n      <td>125.346526</td>\n      <td>-61.874472</td>\n      <td>63.472055</td>\n      <td>44.901945</td>\n      <td>-23.240213</td>\n      <td>-32.770123</td>\n      <td>53.942145</td>\n      <td>...</td>\n      <td>None</td>\n      <td>None</td>\n      <td>None</td>\n      <td>None</td>\n      <td>None</td>\n      <td>None</td>\n      <td>None</td>\n      <td>None</td>\n      <td>None</td>\n      <td>None</td>\n    </tr>\n    <tr>\n      <th>236</th>\n      <td>-70.432301</td>\n      <td>185.880783</td>\n      <td>115.448482</td>\n      <td>115.448482</td>\n      <td>-61.874472</td>\n      <td>53.574010</td>\n      <td>37.899785</td>\n      <td>-23.240213</td>\n      <td>-32.770123</td>\n      <td>44.044100</td>\n      <td>...</td>\n      <td>None</td>\n      <td>None</td>\n      <td>None</td>\n      <td>None</td>\n      <td>None</td>\n      <td>None</td>\n      <td>None</td>\n      <td>None</td>\n      <td>None</td>\n      <td>None</td>\n    </tr>\n    <tr>\n      <th>237</th>\n      <td>NaN</td>\n      <td>NaN</td>\n      <td>NaN</td>\n      <td>NaN</td>\n      <td>NaN</td>\n      <td>NaN</td>\n      <td>NaN</td>\n      <td>NaN</td>\n      <td>NaN</td>\n      <td>NaN</td>\n      <td>...</td>\n      <td>None</td>\n      <td>None</td>\n      <td>None</td>\n      <td>None</td>\n      <td>None</td>\n      <td>None</td>\n      <td>None</td>\n      <td>None</td>\n      <td>None</td>\n      <td>None</td>\n    </tr>\n  </tbody>\n</table>\n<p>238 rows × 228 columns</p>\n</div>"
     },
     "execution_count": 22,
     "metadata": {},
     "output_type": "execute_result"
    }
   ],
   "source": [
    "df1\n",
    "# df1[\"PEBedarf\"]"
   ],
   "metadata": {
    "collapsed": false,
    "pycharm": {
     "name": "#%%\n"
    }
   }
  },
  {
   "cell_type": "markdown",
   "source": [
    "Zuerst einmal ein Sanity check:\n",
    "In welchen Input Kategorien unterscheiden sich die Varianten nicht?"
   ],
   "metadata": {
    "collapsed": false,
    "pycharm": {
     "name": "#%% md\n"
    }
   }
  },
  {
   "cell_type": "code",
   "execution_count": 23,
   "outputs": [
    {
     "data": {
      "text/plain": "array(['Aichinger', 'Am Bichl', 'Gneis', 'Graz', 'Pilzgasse', None,\n       'Glan', 'Graz16'], dtype=object)"
     },
     "execution_count": 23,
     "metadata": {},
     "output_type": "execute_result"
    }
   ],
   "source": [
    "projects = df_inputs.Projekt.unique()\n",
    "projects"
   ],
   "metadata": {
    "collapsed": false,
    "pycharm": {
     "name": "#%%\n"
    }
   }
  },
  {
   "cell_type": "code",
   "execution_count": 24,
   "outputs": [
    {
     "data": {
      "text/plain": "array(['Alpha - Bauträger Standard', 'Alpha - Aktuell',\n       'Alpha - Netzdienlichkeit', 'Alpha - Min PEQ',\n       'Beta - Bauträger Standard', 'Beta - Aktuell',\n       'Beta - Netzdienlichkeit', 'Beta - Min PEQ',\n       'Omega - Bauträger Standard', 'Omega - Aktuell',\n       'Omega - Netzdienlichkeit', 'Omega - Min PEQ',\n       'Alpha - Min PEQ - Nutzerstrom 75%',\n       'Beta - Min PEQ - Nutzerstrom 75%',\n       'Omega - Min PEQ - Nutzerstrom 75%',\n       'Alpha - Min PEQ - 75% Nutzerstrom',\n       'Beta - Min PEQ - 75% Nutzerstrom',\n       'Omega - Min PEQ - 75% Nutzerstrom', 'Alpha - Bauträger',\n       'Alpha - Akutell', 'Beta - Bauträger', 'Beta - Akutell',\n       'Omega - Bauträger', 'Omega - Akutell',\n       'Alpha - Pilzgasse Manfred mit Netzdienlichkeit',\n       'Alpha - Pilzgasse Manfred mit Netzdienlichkeit Wind 2017',\n       'Alpha - Pilzgasse Manfred mit Netzdienlichkeit Wind 2018',\n       'Alpha - Pilzgasse Manfred mit Netzdienlichkeit Wind 2019',\n       'Alpha - Pilzgasse Manfred mit Netzdienlichkeit Wind 2020', None,\n       'Aichinger GFZ 0,5 Alpha - Netzdienlichkeit',\n       'Aichinger GFZ 0,5 Beta - Netzdienlichkeit'], dtype=object)"
     },
     "execution_count": 24,
     "metadata": {},
     "output_type": "execute_result"
    }
   ],
   "source": [
    "varianten = df_inputs.Variantenname.unique()\n",
    "varianten\n"
   ],
   "metadata": {
    "collapsed": false,
    "pycharm": {
     "name": "#%%\n"
    }
   }
  },
  {
   "cell_type": "code",
   "execution_count": 25,
   "outputs": [
    {
     "data": {
      "text/plain": "(array(['Bauträger Standard', 'Aktuell', 'Hybridbauweise',\n        'Graz Bauträger Standard', 'Graz Aktuelle Planung', 'ZQ2 P33',\n        None], dtype=object),\n 7)"
     },
     "execution_count": 25,
     "metadata": {},
     "output_type": "execute_result"
    }
   ],
   "source": [
    "bauweisen = df_inputs[\"Gewählte Variante\"].unique()\n",
    "bauweisen, len(bauweisen)"
   ],
   "metadata": {
    "collapsed": false,
    "pycharm": {
     "name": "#%%\n"
    }
   }
  },
  {
   "cell_type": "code",
   "execution_count": 26,
   "outputs": [
    {
     "data": {
      "text/plain": "(array([0.58      , 0.6       , 0.96059388, 0.8       ,        nan,\n        0.9       ]),\n 6)"
     },
     "execution_count": 26,
     "metadata": {},
     "output_type": "execute_result"
    }
   ],
   "source": [
    "sonnenschutz = df_inputs[\"Mobiler Sommerlicher Sonnenschutz\"].unique()\n",
    "sonnenschutz, len(sonnenschutz)\n"
   ],
   "metadata": {
    "collapsed": false,
    "pycharm": {
     "name": "#%%\n"
    }
   }
  },
  {
   "cell_type": "code",
   "execution_count": 27,
   "outputs": [],
   "source": [
    "view2 = df2[df2.idx.isin([1.,5.,9.])].copy()\n",
    "view3 = df3[df3.idx.isin([2.,6.,10.])].copy()\n",
    "view4 = df4[df4.idx.isin([3.,4.0,4.5,7.,8.,8.5,11.,12.,12.5])].copy()\n",
    "view = pd.concat([view2,view3, view4])"
   ],
   "metadata": {
    "collapsed": false,
    "pycharm": {
     "name": "#%%\n"
    }
   }
  },
  {
   "cell_type": "code",
   "execution_count": 28,
   "outputs": [],
   "source": [
    "view = view[view.FILE != \"None\"]"
   ],
   "metadata": {
    "collapsed": false,
    "pycharm": {
     "name": "#%%\n"
    }
   }
  },
  {
   "cell_type": "code",
   "execution_count": 29,
   "outputs": [],
   "source": [
    "aggbook.sheets[\"Varianten\"][\"A1\"].value     = view"
   ],
   "metadata": {
    "collapsed": false,
    "pycharm": {
     "name": "#%%\n"
    }
   }
  },
  {
   "cell_type": "code",
   "execution_count": 30,
   "outputs": [
    {
     "data": {
      "text/plain": "0       88.459705\n30      15.167988\n53       2.455418\n76       0.000000\n99       0.191599\n129      9.158188\n173     37.329587\n203      0.000000\n1      124.536452\n31      47.066343\n54      20.950571\n77       1.216385\n100      5.144890\n174     57.081800\n204      1.207635\n2      156.619194\n3      148.393785\n32      57.895694\n33      39.172407\n34      42.808615\n55      44.388915\n56      27.504031\n57      31.283084\n78       2.292156\n79       1.627794\n80       2.732125\n101      4.428992\n102      2.023763\n103      2.368480\n175     39.761779\n176     30.844077\n177     37.067642\n205      1.534404\n206      3.150772\n207      2.316807\nName: PEExport, dtype: float64"
     },
     "execution_count": 30,
     "metadata": {},
     "output_type": "execute_result"
    }
   ],
   "source": [
    "import seaborn as sns\n",
    "\n",
    "alfa = view[view[\"Variantenname\"].str.contains(\"Alpha\")]\n",
    "alfa[\"PEExport\"]"
   ],
   "metadata": {
    "collapsed": false,
    "pycharm": {
     "name": "#%%\n"
    }
   }
  },
  {
   "cell_type": "code",
   "execution_count": 31,
   "outputs": [
    {
     "data": {
      "text/plain": "<AxesSubplot:xlabel='PEBedarf', ylabel='PEExport'>"
     },
     "execution_count": 31,
     "metadata": {},
     "output_type": "execute_result"
    },
    {
     "data": {
      "text/plain": "<Figure size 432x288 with 1 Axes>",
      "image/png": "[encoded data removed]"
     },
     "metadata": {
      "needs_background": "light"
     },
     "output_type": "display_data"
    }
   ],
   "source": [
    "sns.scatterplot(data=alfa,\n",
    "            x=\"PEBedarf\",\n",
    "            y=\"PEExport\",\n",
    "            hue=\"Projekt\")"
   ],
   "metadata": {
    "collapsed": false,
    "pycharm": {
     "name": "#%%\n"
    }
   }
  },
  {
   "cell_type": "code",
   "execution_count": 32,
   "outputs": [
    {
     "data": {
      "text/plain": "(-126.79530123469388, 88.4597052992049)"
     },
     "execution_count": 32,
     "metadata": {},
     "output_type": "execute_result"
    }
   ],
   "source": [
    "from utils.targets import target\n",
    "var = alfa.iloc[0]\n",
    "# var\n",
    "peb = var[\"PEBedarf\"]\n",
    "pee = var[\"PEExport\"]\n",
    "peb, pee"
   ],
   "metadata": {
    "collapsed": false,
    "pycharm": {
     "name": "#%%\n"
    }
   }
  },
  {
   "cell_type": "code",
   "execution_count": 44,
   "outputs": [
    {
     "data": {
      "text/plain": "array([-126.79530123469388, 88.4597052992049, -38.33559593548898,\n       -38.33559593548898, -121.15450293171904, -159.49009886720802,\n       -112.82785279863059, -23.24021327263277, -45.73747125777881,\n       -181.98735685235405, -128.74305587612247, 0.0, 4.2249061927840605,\n       18.38478844223612, 5.082584113482937, 27.692278748503117,\n       0.936149239267678, 0.0, 0.0, 0.0, 'Fernwärme', 0.2348993288590604,\n       121.15450293171904, 85.70815693112466, 1.0,\n       'Alpha - Bauträger Standard',\n       'Aichinger 1 Alpha - Bauträger Standard', 'Doppelsimulation',\n       datetime.datetime(2021, 11, 24, 15, 11, 57), 'latest', 'Aichinger',\n       123.8, 0.0, 0.0, 0.0, 0.0, 123.8, 0.0, 189.2224,\n       31.258799999999997, 87.5, 87.5, 'Bauträger Standard', 0.18, 0.93,\n       0.12, 0.13299999999999998, 0.7, 180.0, 0.0, 0.0, 0.0, 0.0, 0.0,\n       0.0, 0.0, 0.0, 0.0, 0.0, 0.0, 0.12939571947519746,\n       0.4565564874921827, 2.5, 1.0656015703573898, 0.58, 0.5,\n       1.069227451340346, 2.0, 35.0, 5.8, 2.6, 20.0, 22.0, 25.0,\n       0.9400155549236853, 33.04745568896512, 4.25, 4.25, 4.25, 4.25,\n       4.25, 0.95, 0.95, 25.0, 23.0, 0.95, 33.04745568896512, 15.0, 15.0,\n       15.0, 15.0, 15.0, 15.0, 60.0, 70.0, 0.75, 2.103, 350.0,\n       33.04745568896512, 0.85, 3.2, 3.0, 3.0, 3.0, 3.2, 0.02, 0.1, 0.5,\n       36.935391652372786, 0.0, 0.77, 0.0, 0.37145449291503624, 80.0, 0.9,\n       839520.0000000001, 0.6, 41000.0, 0.00011904761904761905,\n       718375.6149428572, 140.65180102915951, 0.5, 0.23443781800391392,\n       37.735849056603776, 0.5, 0.9, 0.3, 0.17, 1.0, 1.0, 1.0, 1.0, nan,\n       62.0, 0.00011904761904761905, 31.02, nan, 0.9, 0.9,\n       '11 - Alltagsmobilität nach Fertigstellung', 0.51, 0.19, 0.02,\n       0.28, 194.5986578053969, 1185.9503005514032, 100.58236356605155,\n       4634.9796122834205, 2748.2339089930274, 628.3833007053463, 0.0,\n       1601.294238807472, 170.42978966918895, 0.34, 1.1611111111111112,\n       4.18, None, '-', 4.0, 8.0, '-', '-', '-', '-', '-', '-', 1.0,\n       False, True, False, True, True, False, False, False, 1.44, 8.908,\n       12.201999999999998, 8.7088, 0.0, 0.51, 0.51, 0.51, 0.51, 0.51,\n       0.38760000000000006, 0.5366412213740457, 0.5811723487952796,\n       0.4355213543753954, 0.0, 1.0, 1.0, 1.0, 1.0228074900420996, 1.0,\n       1.0, 1.0, 1.0, 1.0, 1.0, 1.0, 1.0, 0.75, 0.93, 1.0, 1.03, 0.9, 2.5,\n       3.0, 9.0, True, True, True, True, 745.0, 1.0, None, None, None,\n       None, None, None, None, None, None, None, None, None], dtype=object)"
     },
     "execution_count": 44,
     "metadata": {},
     "output_type": "execute_result"
    }
   ],
   "source": [
    "var"
   ],
   "metadata": {
    "collapsed": false,
    "pycharm": {
     "name": "#%%\n"
    }
   }
  },
  {
   "cell_type": "code",
   "execution_count": 45,
   "outputs": [
    {
     "ename": "IndexError",
     "evalue": "only integers, slices (`:`), ellipsis (`...`), numpy.newaxis (`None`) and integer or boolean arrays are valid indices",
     "output_type": "error",
     "traceback": [
      "\u001B[1;31m---------------------------------------------------------------------------\u001B[0m",
      "\u001B[1;31mIndexError\u001B[0m                                Traceback (most recent call last)",
      "\u001B[1;32mC:\\Users\\SIMONS~1\\AppData\\Local\\Temp/ipykernel_27376/134104718.py\u001B[0m in \u001B[0;36m<module>\u001B[1;34m\u001B[0m\n\u001B[0;32m      1\u001B[0m \u001B[1;32mfrom\u001B[0m \u001B[0mutils\u001B[0m\u001B[1;33m.\u001B[0m\u001B[0mtargets\u001B[0m \u001B[1;32mimport\u001B[0m \u001B[0mZielwert\u001B[0m\u001B[1;33m\u001B[0m\u001B[1;33m\u001B[0m\u001B[0m\n\u001B[1;32m----> 2\u001B[1;33m \u001B[0mza\u001B[0m \u001B[1;33m=\u001B[0m \u001B[0mZielwert\u001B[0m\u001B[1;33m.\u001B[0m\u001B[0mZQSynergy\u001B[0m\u001B[1;33m(\u001B[0m\u001B[1;33m)\u001B[0m\u001B[1;33m.\u001B[0m\u001B[0malpha\u001B[0m\u001B[1;33m(\u001B[0m\u001B[0mvar\u001B[0m\u001B[1;33m[\u001B[0m\u001B[1;34m\"GFZ\"\u001B[0m\u001B[1;33m]\u001B[0m\u001B[1;33m)\u001B[0m\u001B[1;33m\u001B[0m\u001B[1;33m\u001B[0m\u001B[0m\n\u001B[0m\u001B[0;32m      3\u001B[0m \u001B[1;33m\u001B[0m\u001B[0m\n\u001B[0;32m      4\u001B[0m \u001B[0mza\u001B[0m\u001B[1;33m\u001B[0m\u001B[1;33m\u001B[0m\u001B[0m\n",
      "\u001B[1;31mIndexError\u001B[0m: only integers, slices (`:`), ellipsis (`...`), numpy.newaxis (`None`) and integer or boolean arrays are valid indices"
     ]
    }
   ],
   "source": [
    "from utils.targets import Zielwert\n",
    "za = Zielwert.ZQSynergy().alpha(var[\"GFZ\"])\n",
    "\n",
    "za"
   ],
   "metadata": {
    "collapsed": false,
    "pycharm": {
     "name": "#%%\n"
    }
   }
  }
 ],
 "metadata": {
  "kernelspec": {
   "name": "pycharm-24baec3d",
   "language": "python",
   "display_name": "PyCharm (peexcel)"
  },
  "language_info": {
   "codemirror_mode": {
    "name": "ipython",
    "version": 2
   },
   "file_extension": ".py",
   "mimetype": "text/x-python",
   "name": "python",
   "nbconvert_exporter": "python",
   "pygments_lexer": "ipython2",
   "version": "2.7.6"
  }
 },
 "nbformat": 4,
 "nbformat_minor": 0
}